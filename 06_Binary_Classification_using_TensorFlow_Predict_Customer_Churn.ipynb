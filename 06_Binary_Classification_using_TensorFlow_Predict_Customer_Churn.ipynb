{
  "nbformat": 4,
  "nbformat_minor": 0,
  "metadata": {
    "colab": {
      "provenance": [],
      "toc_visible": true,
      "authorship_tag": "ABX9TyOcfeHOGW7sC9zR910zPbG0",
      "include_colab_link": true
    },
    "kernelspec": {
      "name": "python3",
      "display_name": "Python 3"
    },
    "language_info": {
      "name": "python"
    }
  },
  "cells": [
    {
      "cell_type": "markdown",
      "metadata": {
        "id": "view-in-github",
        "colab_type": "text"
      },
      "source": [
        "<a href=\"https://colab.research.google.com/github/GoAshim/Artificial-Neural-Network-with-TensorFlow/blob/main/06_Binary_Classification_using_TensorFlow_Predict_Customer_Churn.ipynb\" target=\"_parent\"><img src=\"https://colab.research.google.com/assets/colab-badge.svg\" alt=\"Open In Colab\"/></a>"
      ]
    },
    {
      "cell_type": "markdown",
      "source": [
        "## Binary Classification using TensorFlow - Predict Customer Churn"
      ],
      "metadata": {
        "id": "iZQzkH_nFMgS"
      }
    },
    {
      "cell_type": "markdown",
      "source": [
        "## Business Problem\n",
        "In this project, we are going to use Artificial Neural Network (ANN) with TensorFlow to perform binary classification. We have the dataset of 10000 random customers of a bank with some important features including an indicator that if the customer either remained with or left the bank in the last 6 months. We will apply ANN model on the dataset and see how well that model can predict customer churn. This can benefit the bank to know in advance which customers have more probability of leaving and can build strategy to tackle the problem."
      ],
      "metadata": {
        "id": "Q9e5kQwIIZQC"
      }
    },
    {
      "cell_type": "markdown",
      "source": [
        "## Data Processing"
      ],
      "metadata": {
        "id": "MsZGlcQYH3Ek"
      }
    },
    {
      "cell_type": "markdown",
      "source": [
        "### Import Libraries"
      ],
      "metadata": {
        "id": "K3LUtb4rIhL3"
      }
    },
    {
      "cell_type": "markdown",
      "source": [
        "### Import Data"
      ],
      "metadata": {
        "id": "BTsOGGwFIFif"
      }
    },
    {
      "cell_type": "markdown",
      "source": [
        "### Exploratory Data Analysis (EDA)"
      ],
      "metadata": {
        "id": "sQnl3Wa7IwoM"
      }
    },
    {
      "cell_type": "markdown",
      "source": [
        "### Handle Missing Data"
      ],
      "metadata": {
        "id": "kEk-Db1fIs59"
      }
    },
    {
      "cell_type": "markdown",
      "source": [
        "### Encode Categorical Data"
      ],
      "metadata": {
        "id": "gzF4sgRMJKl1"
      }
    },
    {
      "cell_type": "markdown",
      "source": [
        "### Scale Numeric Data"
      ],
      "metadata": {
        "id": "oyAGLa7bJLWQ"
      }
    },
    {
      "cell_type": "markdown",
      "source": [
        "### Split Data for Training and Testing"
      ],
      "metadata": {
        "id": "JUjegU1mJhm_"
      }
    }
  ]
}