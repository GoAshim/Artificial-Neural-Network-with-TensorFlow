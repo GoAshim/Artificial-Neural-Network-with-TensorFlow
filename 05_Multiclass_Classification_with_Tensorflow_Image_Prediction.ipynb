{
  "nbformat": 4,
  "nbformat_minor": 0,
  "metadata": {
    "colab": {
      "provenance": [],
      "authorship_tag": "ABX9TyP81VDrEBjmWBy30/Bso0/3",
      "include_colab_link": true
    },
    "kernelspec": {
      "name": "python3",
      "display_name": "Python 3"
    },
    "language_info": {
      "name": "python"
    }
  },
  "cells": [
    {
      "cell_type": "markdown",
      "metadata": {
        "id": "view-in-github",
        "colab_type": "text"
      },
      "source": [
        "<a href=\"https://colab.research.google.com/github/GoAshim/Artificial-Neural-Network-with-TensorFlow/blob/main/05_Multiclass_Classification_with_Tensorflow_Image_Prediction.ipynb\" target=\"_parent\"><img src=\"https://colab.research.google.com/assets/colab-badge.svg\" alt=\"Open In Colab\"/></a>"
      ]
    },
    {
      "cell_type": "markdown",
      "source": [
        "## Multiclass Classification\n",
        "In Multiclass Classification we build neural network model using Tensorflow to predict outcome which can be one of 3 or more classes. In this project, we are going to build neural network model which will classify images different types (more than 2) of clothing.\n",
        "\n",
        "We have seen in previous project how to handle **binary classification**, where we built neural network model to predict whether a person has breast cancer or not (click [here](https://github.com/GoAshim/Deep-Learning-with-TensorFlow/blob/a62a4a5e741d9d0b2911d55edc2f6fcf1ef7291f/04_Binary_Classification_using_TensorFlow_Predict_Breast_Cancer.ipynb))"
      ],
      "metadata": {
        "id": "ITCMLfG7xsiX"
      }
    },
    {
      "cell_type": "markdown",
      "source": [
        "### Step 1 - Import Libraries"
      ],
      "metadata": {
        "id": "yScVVU-X3Uge"
      }
    },
    {
      "cell_type": "code",
      "source": [
        "# Import necessary libraries\n",
        "\n",
        "# For data analysis and modeling\n",
        "import random as rnd\n",
        "import pandas as pd\n",
        "import numpy as np\n",
        "import matplotlib.pyplot as plt\n",
        "import tensorflow as tf\n",
        "\n",
        "# For the dataset\n",
        "from tensorflow.keras.datasets import fashion_mnist"
      ],
      "metadata": {
        "id": "x15HqYDQ0GsJ"
      },
      "execution_count": 1,
      "outputs": []
    },
    {
      "cell_type": "markdown",
      "source": [
        "### Step 2 - Load Data\n",
        "We will load the data publicly available fashion_mnist dataset (can be found [here](https://www.tensorflow.org/datasets/catalog/fashion_mnist)). Like other tensorflow datasets, this one is already split between train and test datasets."
      ],
      "metadata": {
        "id": "DmJqYGu53d01"
      }
    },
    {
      "cell_type": "code",
      "source": [
        "# Load the data\n",
        "(X_train, y_train), (X_test, y_test) = fashion_mnist.load_data()"
      ],
      "metadata": {
        "colab": {
          "base_uri": "https://localhost:8080/"
        },
        "id": "jRokMRQ12VgG",
        "outputId": "cb9f020a-4cf0-4de8-ba2a-2ff8f5e94dd9"
      },
      "execution_count": 2,
      "outputs": [
        {
          "output_type": "stream",
          "name": "stdout",
          "text": [
            "Downloading data from https://storage.googleapis.com/tensorflow/tf-keras-datasets/train-labels-idx1-ubyte.gz\n",
            "29515/29515 [==============================] - 0s 0us/step\n",
            "Downloading data from https://storage.googleapis.com/tensorflow/tf-keras-datasets/train-images-idx3-ubyte.gz\n",
            "26421880/26421880 [==============================] - 0s 0us/step\n",
            "Downloading data from https://storage.googleapis.com/tensorflow/tf-keras-datasets/t10k-labels-idx1-ubyte.gz\n",
            "5148/5148 [==============================] - 0s 0us/step\n",
            "Downloading data from https://storage.googleapis.com/tensorflow/tf-keras-datasets/t10k-images-idx3-ubyte.gz\n",
            "4422102/4422102 [==============================] - 0s 0us/step\n"
          ]
        }
      ]
    },
    {
      "cell_type": "markdown",
      "source": [
        "### Step 3 - Exploratory Data Analysis (EDA)"
      ],
      "metadata": {
        "id": "o_XJy24w3ivi"
      }
    },
    {
      "cell_type": "code",
      "source": [
        "# Print the first element of training data and label\n",
        "\n",
        "print(\"First data element: \", X_train[0])\n",
        "print(\"\\nFirst label element: \", y_train[0])"
      ],
      "metadata": {
        "colab": {
          "base_uri": "https://localhost:8080/"
        },
        "id": "19uvyR605Vir",
        "outputId": "68d8919a-d784-4475-a015-f5d4e929d54c"
      },
      "execution_count": 3,
      "outputs": [
        {
          "output_type": "stream",
          "name": "stdout",
          "text": [
            "First data element:  [[  0   0   0   0   0   0   0   0   0   0   0   0   0   0   0   0   0   0\n",
            "    0   0   0   0   0   0   0   0   0   0]\n",
            " [  0   0   0   0   0   0   0   0   0   0   0   0   0   0   0   0   0   0\n",
            "    0   0   0   0   0   0   0   0   0   0]\n",
            " [  0   0   0   0   0   0   0   0   0   0   0   0   0   0   0   0   0   0\n",
            "    0   0   0   0   0   0   0   0   0   0]\n",
            " [  0   0   0   0   0   0   0   0   0   0   0   0   1   0   0  13  73   0\n",
            "    0   1   4   0   0   0   0   1   1   0]\n",
            " [  0   0   0   0   0   0   0   0   0   0   0   0   3   0  36 136 127  62\n",
            "   54   0   0   0   1   3   4   0   0   3]\n",
            " [  0   0   0   0   0   0   0   0   0   0   0   0   6   0 102 204 176 134\n",
            "  144 123  23   0   0   0   0  12  10   0]\n",
            " [  0   0   0   0   0   0   0   0   0   0   0   0   0   0 155 236 207 178\n",
            "  107 156 161 109  64  23  77 130  72  15]\n",
            " [  0   0   0   0   0   0   0   0   0   0   0   1   0  69 207 223 218 216\n",
            "  216 163 127 121 122 146 141  88 172  66]\n",
            " [  0   0   0   0   0   0   0   0   0   1   1   1   0 200 232 232 233 229\n",
            "  223 223 215 213 164 127 123 196 229   0]\n",
            " [  0   0   0   0   0   0   0   0   0   0   0   0   0 183 225 216 223 228\n",
            "  235 227 224 222 224 221 223 245 173   0]\n",
            " [  0   0   0   0   0   0   0   0   0   0   0   0   0 193 228 218 213 198\n",
            "  180 212 210 211 213 223 220 243 202   0]\n",
            " [  0   0   0   0   0   0   0   0   0   1   3   0  12 219 220 212 218 192\n",
            "  169 227 208 218 224 212 226 197 209  52]\n",
            " [  0   0   0   0   0   0   0   0   0   0   6   0  99 244 222 220 218 203\n",
            "  198 221 215 213 222 220 245 119 167  56]\n",
            " [  0   0   0   0   0   0   0   0   0   4   0   0  55 236 228 230 228 240\n",
            "  232 213 218 223 234 217 217 209  92   0]\n",
            " [  0   0   1   4   6   7   2   0   0   0   0   0 237 226 217 223 222 219\n",
            "  222 221 216 223 229 215 218 255  77   0]\n",
            " [  0   3   0   0   0   0   0   0   0  62 145 204 228 207 213 221 218 208\n",
            "  211 218 224 223 219 215 224 244 159   0]\n",
            " [  0   0   0   0  18  44  82 107 189 228 220 222 217 226 200 205 211 230\n",
            "  224 234 176 188 250 248 233 238 215   0]\n",
            " [  0  57 187 208 224 221 224 208 204 214 208 209 200 159 245 193 206 223\n",
            "  255 255 221 234 221 211 220 232 246   0]\n",
            " [  3 202 228 224 221 211 211 214 205 205 205 220 240  80 150 255 229 221\n",
            "  188 154 191 210 204 209 222 228 225   0]\n",
            " [ 98 233 198 210 222 229 229 234 249 220 194 215 217 241  65  73 106 117\n",
            "  168 219 221 215 217 223 223 224 229  29]\n",
            " [ 75 204 212 204 193 205 211 225 216 185 197 206 198 213 240 195 227 245\n",
            "  239 223 218 212 209 222 220 221 230  67]\n",
            " [ 48 203 183 194 213 197 185 190 194 192 202 214 219 221 220 236 225 216\n",
            "  199 206 186 181 177 172 181 205 206 115]\n",
            " [  0 122 219 193 179 171 183 196 204 210 213 207 211 210 200 196 194 191\n",
            "  195 191 198 192 176 156 167 177 210  92]\n",
            " [  0   0  74 189 212 191 175 172 175 181 185 188 189 188 193 198 204 209\n",
            "  210 210 211 188 188 194 192 216 170   0]\n",
            " [  2   0   0   0  66 200 222 237 239 242 246 243 244 221 220 193 191 179\n",
            "  182 182 181 176 166 168  99  58   0   0]\n",
            " [  0   0   0   0   0   0   0  40  61  44  72  41  35   0   0   0   0   0\n",
            "    0   0   0   0   0   0   0   0   0   0]\n",
            " [  0   0   0   0   0   0   0   0   0   0   0   0   0   0   0   0   0   0\n",
            "    0   0   0   0   0   0   0   0   0   0]\n",
            " [  0   0   0   0   0   0   0   0   0   0   0   0   0   0   0   0   0   0\n",
            "    0   0   0   0   0   0   0   0   0   0]]\n",
            "\n",
            "First label element:  9\n"
          ]
        }
      ]
    },
    {
      "cell_type": "code",
      "source": [
        "# Check the shape of the training data and training labels\n",
        "X_train[0].shape, y_train[0].shape"
      ],
      "metadata": {
        "colab": {
          "base_uri": "https://localhost:8080/"
        },
        "id": "JXp_Ask-6R88",
        "outputId": "a1ba3af8-250f-4d12-f641-fdc152cae4f9"
      },
      "execution_count": 4,
      "outputs": [
        {
          "output_type": "execute_result",
          "data": {
            "text/plain": [
              "((28, 28), ())"
            ]
          },
          "metadata": {},
          "execution_count": 4
        }
      ]
    },
    {
      "cell_type": "code",
      "source": [
        "len(X_train), len(y_train), len(X_test), len(y_test)"
      ],
      "metadata": {
        "colab": {
          "base_uri": "https://localhost:8080/"
        },
        "id": "d_SR9g0w7_r_",
        "outputId": "d3927dbe-9e03-4fec-b247-1d320c796fbb"
      },
      "execution_count": 5,
      "outputs": [
        {
          "output_type": "execute_result",
          "data": {
            "text/plain": [
              "(60000, 60000, 10000, 10000)"
            ]
          },
          "metadata": {},
          "execution_count": 5
        }
      ]
    },
    {
      "cell_type": "markdown",
      "source": [
        "#####Observation\n",
        "So from the above code we see that\n",
        "* The training and test dataset consist of 60000 and 10000 images and their corresponding labels.  \n",
        "* Each element of training data (image) is 2 dimensional matrix of 28 by 28 (pixels).\n",
        "* The label is one number representing each type of image, so it's scaler and hence has 0 dimension."
      ],
      "metadata": {
        "id": "oprM_LC27DXP"
      }
    },
    {
      "cell_type": "code",
      "source": [
        "# Plot the first element of training data (we saw the number value representing every pixel of that data element)\n",
        "plt.imshow(X_train[0]);"
      ],
      "metadata": {
        "colab": {
          "base_uri": "https://localhost:8080/",
          "height": 430
        },
        "id": "ohbdejEO9L9J",
        "outputId": "e2ef4c7d-18c1-4ed0-fd88-9afa4dc3bf71"
      },
      "execution_count": 6,
      "outputs": [
        {
          "output_type": "display_data",
          "data": {
            "text/plain": [
              "<Figure size 640x480 with 1 Axes>"
            ],
            "image/png": "[encoded data removed]"
          },
          "metadata": {}
        }
      ]
    },
    {
      "cell_type": "code",
      "source": [
        "# Print the label of the first element again\n",
        "y_train[0]"
      ],
      "metadata": {
        "colab": {
          "base_uri": "https://localhost:8080/"
        },
        "id": "UUdVGZfs-pCJ",
        "outputId": "b4678f6d-118c-474a-8b96-9fe004565d22"
      },
      "execution_count": 7,
      "outputs": [
        {
          "output_type": "execute_result",
          "data": {
            "text/plain": [
              "9"
            ]
          },
          "metadata": {},
          "execution_count": 7
        }
      ]
    },
    {
      "cell_type": "code",
      "source": [
        "# Let's create the list with labels from the fashion mnist dataset\n",
        "labels = [\"T-shirt/top\", \"Trouser\", \"Pullover\", \"Dress\", \"Coat\", \"Sandal\", \"Shirt\", \"Sneaker\", \"Bag\", \"Ankle boot\"]"
      ],
      "metadata": {
        "id": "vIaiPox7Ce1W"
      },
      "execution_count": 8,
      "outputs": []
    },
    {
      "cell_type": "code",
      "source": [
        "# Now we can use the labels list to see the label for the first data element of the training set\n",
        "print(\"The first element of the training dataset represents \", labels[y_train[0]])"
      ],
      "metadata": {
        "colab": {
          "base_uri": "https://localhost:8080/"
        },
        "id": "ohi8R7kqC3-A",
        "outputId": "9ea206bc-5a28-4fb6-e46e-4b4f5e1f0323"
      },
      "execution_count": 9,
      "outputs": [
        {
          "output_type": "stream",
          "name": "stdout",
          "text": [
            "The first element of the training dataset represents  Ankle boot\n"
          ]
        }
      ]
    },
    {
      "cell_type": "code",
      "source": [
        "# Now instead of checking the data element and the corresponding label of one element at a time, let's write code to plot\n",
        "# 4 the image and the corresponding label of 4 random data elements. We can run that set of code multiple times to get better\n",
        "# understanding of our data\n",
        "\n",
        "plt.figure(figsize=(8, 8))\n",
        "for i in range(4):\n",
        "  ax = plt.subplot(2, 2, i+1)\n",
        "  # Pick a random number, which will be the index of the element we want to plot\n",
        "  ind = rnd.choice(range(len(X_train)))\n",
        "  plt.imshow(X_train[ind])\n",
        "  plt.title(labels[y_train[ind]])\n",
        "  plt.axis(False);"
      ],
      "metadata": {
        "colab": {
          "base_uri": "https://localhost:8080/",
          "height": 675
        },
        "id": "cx_tVQUgE-dL",
        "outputId": "b2745d6b-341e-400f-b097-1536eebeed4a"
      },
      "execution_count": 10,
      "outputs": [
        {
          "output_type": "display_data",
          "data": {
            "text/plain": [
              "<Figure size 800x800 with 4 Axes>"
            ],
            "image/png": "[encoded data removed]"
          },
          "metadata": {}
        }
      ]
    },
    {
      "cell_type": "markdown",
      "source": [
        "### Step 4 - Build Multi-class Classification Model"
      ],
      "metadata": {
        "id": "ysHFgWu8MuCA"
      }
    },
    {
      "cell_type": "markdown",
      "source": [
        "#### Experiment 1\n",
        "Build the first model with 1 hidden layer of 16 nurons, fit it with the training data and see how it evaluates on the test data."
      ],
      "metadata": {
        "id": "vaC8_Jw9MHfO"
      }
    },
    {
      "cell_type": "code",
      "source": [
        "# Create random seed\n",
        "tf.random.set_seed(42)\n",
        "\n",
        "# Build the model\n",
        "model_01 = tf.keras.Sequential([\n",
        "    tf.keras.layers.Flatten(input_shape=(28, 28)), # The shape of each element of training data\n",
        "    tf.keras.layers.Dense(16, activation=\"relu\"), # Hidden layer with 4 nurons and relu activation\n",
        "    tf.keras.layers.Dense(10, activation=tf.keras.activations.softmax) # Output layer with 10 nurons, one for each of the 10 output classes\n",
        "])\n",
        "\n",
        "# Compile the model\n",
        "model_01.compile(\n",
        "    loss=tf.keras.losses.SparseCategoricalCrossentropy(), # Using SparseCategoricalCrossentropy because our data isn't encoded\n",
        "    optimizer=tf.keras.optimizers.Adam(),\n",
        "    metrics=[\"accuracy\"]\n",
        ")\n",
        "\n",
        "# Fit the model\n",
        "hist_01 = model_01.fit(\n",
        "    X_train,\n",
        "    y_train,\n",
        "    epochs=10,\n",
        "    validation_data=(X_test, y_test)\n",
        ")"
      ],
      "metadata": {
        "id": "XLJ6664TM0hH",
        "colab": {
          "base_uri": "https://localhost:8080/"
        },
        "outputId": "9af702bb-5c65-4e92-a26d-b4dc01429e42"
      },
      "execution_count": 11,
      "outputs": [
        {
          "output_type": "stream",
          "name": "stdout",
          "text": [
            "Epoch 1/10\n",
            "1875/1875 [==============================] - 10s 4ms/step - loss: 2.2756 - accuracy: 0.2422 - val_loss: 1.8658 - val_accuracy: 0.2620\n",
            "Epoch 2/10\n",
            "1875/1875 [==============================] - 4s 2ms/step - loss: 1.7108 - accuracy: 0.3391 - val_loss: 1.5932 - val_accuracy: 0.3242\n",
            "Epoch 3/10\n",
            "1875/1875 [==============================] - 5s 3ms/step - loss: 1.4299 - accuracy: 0.4096 - val_loss: 1.3262 - val_accuracy: 0.4330\n",
            "Epoch 4/10\n",
            "1875/1875 [==============================] - 4s 2ms/step - loss: 1.2873 - accuracy: 0.4557 - val_loss: 1.3285 - val_accuracy: 0.4485\n",
            "Epoch 5/10\n",
            "1875/1875 [==============================] - 4s 2ms/step - loss: 1.1727 - accuracy: 0.5096 - val_loss: 1.1227 - val_accuracy: 0.5194\n",
            "Epoch 6/10\n",
            "1875/1875 [==============================] - 5s 3ms/step - loss: 1.0863 - accuracy: 0.5384 - val_loss: 1.0736 - val_accuracy: 0.5474\n",
            "Epoch 7/10\n",
            "1875/1875 [==============================] - 4s 2ms/step - loss: 1.0421 - accuracy: 0.5547 - val_loss: 1.0860 - val_accuracy: 0.5471\n",
            "Epoch 8/10\n",
            "1875/1875 [==============================] - 4s 2ms/step - loss: 1.0261 - accuracy: 0.5583 - val_loss: 1.0226 - val_accuracy: 0.5699\n",
            "Epoch 9/10\n",
            "1875/1875 [==============================] - 5s 3ms/step - loss: 1.0104 - accuracy: 0.5676 - val_loss: 1.0189 - val_accuracy: 0.5681\n",
            "Epoch 10/10\n",
            "1875/1875 [==============================] - 4s 2ms/step - loss: 0.9947 - accuracy: 0.5696 - val_loss: 1.0113 - val_accuracy: 0.5565\n"
          ]
        }
      ]
    },
    {
      "cell_type": "markdown",
      "source": [
        "###### Observation\n",
        "Based on above result, we see after 10 epochs our first model has 55% accuracy. As our data has 10 output classes, if we make random guess, we should get 10% accuracy. So our model is 5 times better predicting the output than pure random guess. However we will do few more experiments to see if we can improve the model accuracy."
      ],
      "metadata": {
        "id": "1UgTZjMmMoIh"
      }
    },
    {
      "cell_type": "markdown",
      "source": [
        "#### Experiment 2\n",
        "Let's increase the number of nurons and see if that impacts on model accuracy."
      ],
      "metadata": {
        "id": "qmCWex7FNu9g"
      }
    },
    {
      "cell_type": "code",
      "source": [
        "# Create random seed\n",
        "tf.random.set_seed(42)\n",
        "\n",
        "# Build the model\n",
        "model_02 = tf.keras.Sequential([\n",
        "    tf.keras.layers.Flatten(input_shape=(28, 28)),\n",
        "    tf.keras.layers.Dense(128, activation=\"relu\"),\n",
        "    tf.keras.layers.Dense(10, activation=tf.keras.activations.softmax)\n",
        "])\n",
        "\n",
        "# Compile the model\n",
        "model_02.compile(\n",
        "    loss=tf.keras.losses.SparseCategoricalCrossentropy(),\n",
        "    optimizer=tf.keras.optimizers.Adam(),\n",
        "    metrics=['accuracy']\n",
        ")\n",
        "\n",
        "# Fit the model with training data and evaluate on test data\n",
        "hist_02 = model_02.fit(X_train,\n",
        "                       y_train,\n",
        "                       epochs=10,\n",
        "                       validation_data=(X_test, y_test)\n",
        "                       )"
      ],
      "metadata": {
        "colab": {
          "base_uri": "https://localhost:8080/"
        },
        "id": "1k3KBiZbONAa",
        "outputId": "f7c164f7-483a-4bf3-9bfe-d2f1da40a945"
      },
      "execution_count": 12,
      "outputs": [
        {
          "output_type": "stream",
          "name": "stdout",
          "text": [
            "Epoch 1/10\n",
            "1875/1875 [==============================] - 8s 4ms/step - loss: 2.5476 - accuracy: 0.6816 - val_loss: 0.8802 - val_accuracy: 0.7122\n",
            "Epoch 2/10\n",
            "1875/1875 [==============================] - 8s 4ms/step - loss: 0.6986 - accuracy: 0.7391 - val_loss: 0.7806 - val_accuracy: 0.7175\n",
            "Epoch 3/10\n",
            "1875/1875 [==============================] - 9s 5ms/step - loss: 0.5937 - accuracy: 0.7862 - val_loss: 0.6506 - val_accuracy: 0.7571\n",
            "Epoch 4/10\n",
            "1875/1875 [==============================] - 8s 4ms/step - loss: 0.5377 - accuracy: 0.8086 - val_loss: 0.6089 - val_accuracy: 0.7711\n",
            "Epoch 5/10\n",
            "1875/1875 [==============================] - 7s 4ms/step - loss: 0.5232 - accuracy: 0.8144 - val_loss: 0.5425 - val_accuracy: 0.8131\n",
            "Epoch 6/10\n",
            "1875/1875 [==============================] - 8s 4ms/step - loss: 0.5077 - accuracy: 0.8225 - val_loss: 0.5397 - val_accuracy: 0.7973\n",
            "Epoch 7/10\n",
            "1875/1875 [==============================] - 8s 4ms/step - loss: 0.5033 - accuracy: 0.8254 - val_loss: 0.5291 - val_accuracy: 0.8233\n",
            "Epoch 8/10\n",
            "1875/1875 [==============================] - 7s 4ms/step - loss: 0.4922 - accuracy: 0.8318 - val_loss: 0.5514 - val_accuracy: 0.8248\n",
            "Epoch 9/10\n",
            "1875/1875 [==============================] - 8s 4ms/step - loss: 0.4828 - accuracy: 0.8342 - val_loss: 0.5543 - val_accuracy: 0.8157\n",
            "Epoch 10/10\n",
            "1875/1875 [==============================] - 6s 3ms/step - loss: 0.4757 - accuracy: 0.8353 - val_loss: 0.5363 - val_accuracy: 0.8206\n"
          ]
        }
      ]
    },
    {
      "cell_type": "markdown",
      "source": [
        "###### Observation\n",
        "Based on above result, we see after 10 epochs our second model has more than 80% of accuracy with test data. So we can infer that by reducing one hidden layer and increasing the number of nurons in the remaining hidden layer has increased the model accuracy from 54% to 80%. So we will continue with our second model and run few more experiemnts with different settings."
      ],
      "metadata": {
        "id": "lfN5qeDMQ0zu"
      }
    },
    {
      "cell_type": "code",
      "source": [
        "# Let's check the summary of the model\n",
        "model_02.summary()"
      ],
      "metadata": {
        "colab": {
          "base_uri": "https://localhost:8080/"
        },
        "id": "ntEedLjHbJy1",
        "outputId": "1d7488f6-e46e-464d-a684-64f8e1d09d2b"
      },
      "execution_count": 13,
      "outputs": [
        {
          "output_type": "stream",
          "name": "stdout",
          "text": [
            "Model: \"sequential_1\"\n",
            "_________________________________________________________________\n",
            " Layer (type)                Output Shape              Param #   \n",
            "=================================================================\n",
            " flatten_1 (Flatten)         (None, 784)               0         \n",
            "                                                                 \n",
            " dense_2 (Dense)             (None, 128)               100480    \n",
            "                                                                 \n",
            " dense_3 (Dense)             (None, 10)                1290      \n",
            "                                                                 \n",
            "=================================================================\n",
            "Total params: 101770 (397.54 KB)\n",
            "Trainable params: 101770 (397.54 KB)\n",
            "Non-trainable params: 0 (0.00 Byte)\n",
            "_________________________________________________________________\n"
          ]
        }
      ]
    },
    {
      "cell_type": "markdown",
      "source": [
        "##### Observation\n",
        "The model summary gives two information -\n",
        "* **Output shape** - It indicates the shape of the layer. So in our case the flatten layer has 28*28 (the shape of each of the input unit) = 784. The Dense layers has the shape as the number of nurons we chose for the respective layer.\n",
        "* **Param** - It's the product of input shape and the number of nurons for each of the dense layer. It follows the calculation as [output shape of the previous layer] X [number of nurons in the dense layer] + [number of nurons in the dense layer]."
      ],
      "metadata": {
        "id": "YLUDljfqdOP1"
      }
    }
  ]
}