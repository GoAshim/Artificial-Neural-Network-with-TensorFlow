{
  "nbformat": 4,
  "nbformat_minor": 0,
  "metadata": {
    "colab": {
      "provenance": [],
      "gpuType": "T4",
      "authorship_tag": "ABX9TyOGTXFJ9fmlfAzS6Tn9JX56",
      "include_colab_link": true
    },
    "kernelspec": {
      "name": "python3",
      "display_name": "Python 3"
    },
    "language_info": {
      "name": "python"
    },
    "accelerator": "GPU"
  },
  "cells": [
    {
      "cell_type": "markdown",
      "metadata": {
        "id": "view-in-github",
        "colab_type": "text"
      },
      "source": [
        "<a href=\"https://colab.research.google.com/github/GoAshim/Artificial-Neural-Network-with-TensorFlow/blob/main/05_Multiclass_Classification_with_Tensorflow_Image_Prediction.ipynb\" target=\"_parent\"><img src=\"https://colab.research.google.com/assets/colab-badge.svg\" alt=\"Open In Colab\"/></a>"
      ]
    },
    {
      "cell_type": "markdown",
      "source": [
        "## Multiclass Classification\n",
        "In Multiclass Classification we build neural network model using Tensorflow to predict outcome which can be one of 3 or more classes. In this project, we are going to build neural network model which will classify images different types (more than 2) of clothing.\n",
        "\n",
        "We have seen in previous project how to handle **binary classification**, where we built neural network model to predict whether a person has breast cancer or not (click [here](https://github.com/GoAshim/Deep-Learning-with-TensorFlow/blob/a62a4a5e741d9d0b2911d55edc2f6fcf1ef7291f/04_Binary_Classification_using_TensorFlow_Predict_Breast_Cancer.ipynb))"
      ],
      "metadata": {
        "id": "ITCMLfG7xsiX"
      }
    },
    {
      "cell_type": "markdown",
      "source": [
        "### Step 1 - Import Libraries"
      ],
      "metadata": {
        "id": "yScVVU-X3Uge"
      }
    },
    {
      "cell_type": "code",
      "source": [
        "# Import necessary libraries\n",
        "\n",
        "# For data analysis and modeling\n",
        "import random as rnd\n",
        "import pandas as pd\n",
        "import numpy as np\n",
        "import matplotlib.pyplot as plt\n",
        "import tensorflow as tf\n",
        "\n",
        "# For the dataset\n",
        "from tensorflow.keras.datasets import fashion_mnist"
      ],
      "metadata": {
        "id": "x15HqYDQ0GsJ"
      },
      "execution_count": 1,
      "outputs": []
    },
    {
      "cell_type": "markdown",
      "source": [
        "### Step 2 - Load Data\n",
        "We will load the data publicly available fashion_mnist dataset (can be found [here](https://www.tensorflow.org/datasets/catalog/fashion_mnist)). Like other tensorflow datasets, this one is already split between train and test datasets."
      ],
      "metadata": {
        "id": "DmJqYGu53d01"
      }
    },
    {
      "cell_type": "code",
      "source": [
        "# Load the data\n",
        "(X_train, y_train), (X_test, y_test) = fashion_mnist.load_data()"
      ],
      "metadata": {
        "colab": {
          "base_uri": "https://localhost:8080/"
        },
        "id": "jRokMRQ12VgG",
        "outputId": "5f8380f0-1e6f-4ca7-d352-021643290cd7"
      },
      "execution_count": 2,
      "outputs": [
        {
          "output_type": "stream",
          "name": "stdout",
          "text": [
            "Downloading data from https://storage.googleapis.com/tensorflow/tf-keras-datasets/train-labels-idx1-ubyte.gz\n",
            "29515/29515 [==============================] - 0s 5us/step\n",
            "Downloading data from https://storage.googleapis.com/tensorflow/tf-keras-datasets/train-images-idx3-ubyte.gz\n",
            "26421880/26421880 [==============================] - 2s 0us/step\n",
            "Downloading data from https://storage.googleapis.com/tensorflow/tf-keras-datasets/t10k-labels-idx1-ubyte.gz\n",
            "5148/5148 [==============================] - 0s 0us/step\n",
            "Downloading data from https://storage.googleapis.com/tensorflow/tf-keras-datasets/t10k-images-idx3-ubyte.gz\n",
            "4422102/4422102 [==============================] - 1s 0us/step\n"
          ]
        }
      ]
    },
    {
      "cell_type": "markdown",
      "source": [
        "### Step 3 - Exploratory Data Analysis (EDA)"
      ],
      "metadata": {
        "id": "o_XJy24w3ivi"
      }
    },
    {
      "cell_type": "code",
      "source": [
        "# Print the first element of training data and label\n",
        "\n",
        "print(\"First data element: \", X_train[0])\n",
        "print(\"\\nFirst label element: \", y_train[0])"
      ],
      "metadata": {
        "colab": {
          "base_uri": "https://localhost:8080/"
        },
        "id": "19uvyR605Vir",
        "outputId": "c8c14a8e-ce8f-471f-deaa-db60dd423d8f"
      },
      "execution_count": 3,
      "outputs": [
        {
          "output_type": "stream",
          "name": "stdout",
          "text": [
            "First data element:  [[  0   0   0   0   0   0   0   0   0   0   0   0   0   0   0   0   0   0\n",
            "    0   0   0   0   0   0   0   0   0   0]\n",
            " [  0   0   0   0   0   0   0   0   0   0   0   0   0   0   0   0   0   0\n",
            "    0   0   0   0   0   0   0   0   0   0]\n",
            " [  0   0   0   0   0   0   0   0   0   0   0   0   0   0   0   0   0   0\n",
            "    0   0   0   0   0   0   0   0   0   0]\n",
            " [  0   0   0   0   0   0   0   0   0   0   0   0   1   0   0  13  73   0\n",
            "    0   1   4   0   0   0   0   1   1   0]\n",
            " [  0   0   0   0   0   0   0   0   0   0   0   0   3   0  36 136 127  62\n",
            "   54   0   0   0   1   3   4   0   0   3]\n",
            " [  0   0   0   0   0   0   0   0   0   0   0   0   6   0 102 204 176 134\n",
            "  144 123  23   0   0   0   0  12  10   0]\n",
            " [  0   0   0   0   0   0   0   0   0   0   0   0   0   0 155 236 207 178\n",
            "  107 156 161 109  64  23  77 130  72  15]\n",
            " [  0   0   0   0   0   0   0   0   0   0   0   1   0  69 207 223 218 216\n",
            "  216 163 127 121 122 146 141  88 172  66]\n",
            " [  0   0   0   0   0   0   0   0   0   1   1   1   0 200 232 232 233 229\n",
            "  223 223 215 213 164 127 123 196 229   0]\n",
            " [  0   0   0   0   0   0   0   0   0   0   0   0   0 183 225 216 223 228\n",
            "  235 227 224 222 224 221 223 245 173   0]\n",
            " [  0   0   0   0   0   0   0   0   0   0   0   0   0 193 228 218 213 198\n",
            "  180 212 210 211 213 223 220 243 202   0]\n",
            " [  0   0   0   0   0   0   0   0   0   1   3   0  12 219 220 212 218 192\n",
            "  169 227 208 218 224 212 226 197 209  52]\n",
            " [  0   0   0   0   0   0   0   0   0   0   6   0  99 244 222 220 218 203\n",
            "  198 221 215 213 222 220 245 119 167  56]\n",
            " [  0   0   0   0   0   0   0   0   0   4   0   0  55 236 228 230 228 240\n",
            "  232 213 218 223 234 217 217 209  92   0]\n",
            " [  0   0   1   4   6   7   2   0   0   0   0   0 237 226 217 223 222 219\n",
            "  222 221 216 223 229 215 218 255  77   0]\n",
            " [  0   3   0   0   0   0   0   0   0  62 145 204 228 207 213 221 218 208\n",
            "  211 218 224 223 219 215 224 244 159   0]\n",
            " [  0   0   0   0  18  44  82 107 189 228 220 222 217 226 200 205 211 230\n",
            "  224 234 176 188 250 248 233 238 215   0]\n",
            " [  0  57 187 208 224 221 224 208 204 214 208 209 200 159 245 193 206 223\n",
            "  255 255 221 234 221 211 220 232 246   0]\n",
            " [  3 202 228 224 221 211 211 214 205 205 205 220 240  80 150 255 229 221\n",
            "  188 154 191 210 204 209 222 228 225   0]\n",
            " [ 98 233 198 210 222 229 229 234 249 220 194 215 217 241  65  73 106 117\n",
            "  168 219 221 215 217 223 223 224 229  29]\n",
            " [ 75 204 212 204 193 205 211 225 216 185 197 206 198 213 240 195 227 245\n",
            "  239 223 218 212 209 222 220 221 230  67]\n",
            " [ 48 203 183 194 213 197 185 190 194 192 202 214 219 221 220 236 225 216\n",
            "  199 206 186 181 177 172 181 205 206 115]\n",
            " [  0 122 219 193 179 171 183 196 204 210 213 207 211 210 200 196 194 191\n",
            "  195 191 198 192 176 156 167 177 210  92]\n",
            " [  0   0  74 189 212 191 175 172 175 181 185 188 189 188 193 198 204 209\n",
            "  210 210 211 188 188 194 192 216 170   0]\n",
            " [  2   0   0   0  66 200 222 237 239 242 246 243 244 221 220 193 191 179\n",
            "  182 182 181 176 166 168  99  58   0   0]\n",
            " [  0   0   0   0   0   0   0  40  61  44  72  41  35   0   0   0   0   0\n",
            "    0   0   0   0   0   0   0   0   0   0]\n",
            " [  0   0   0   0   0   0   0   0   0   0   0   0   0   0   0   0   0   0\n",
            "    0   0   0   0   0   0   0   0   0   0]\n",
            " [  0   0   0   0   0   0   0   0   0   0   0   0   0   0   0   0   0   0\n",
            "    0   0   0   0   0   0   0   0   0   0]]\n",
            "\n",
            "First label element:  9\n"
          ]
        }
      ]
    },
    {
      "cell_type": "code",
      "source": [
        "# Check the shape of the training data and training labels\n",
        "X_train[0].shape, y_train[0].shape"
      ],
      "metadata": {
        "colab": {
          "base_uri": "https://localhost:8080/"
        },
        "id": "JXp_Ask-6R88",
        "outputId": "cb6f1c20-f6ff-4dd8-b4a7-551a4dbc67a6"
      },
      "execution_count": 4,
      "outputs": [
        {
          "output_type": "execute_result",
          "data": {
            "text/plain": [
              "((28, 28), ())"
            ]
          },
          "metadata": {},
          "execution_count": 4
        }
      ]
    },
    {
      "cell_type": "code",
      "source": [
        "len(X_train), len(y_train), len(X_test), len(y_test)"
      ],
      "metadata": {
        "colab": {
          "base_uri": "https://localhost:8080/"
        },
        "id": "d_SR9g0w7_r_",
        "outputId": "4749f42d-4363-4b4b-8fab-e0a538a6cd03"
      },
      "execution_count": 5,
      "outputs": [
        {
          "output_type": "execute_result",
          "data": {
            "text/plain": [
              "(60000, 60000, 10000, 10000)"
            ]
          },
          "metadata": {},
          "execution_count": 5
        }
      ]
    },
    {
      "cell_type": "markdown",
      "source": [
        "#####Observation\n",
        "So from the above code we see that\n",
        "* The training and test dataset consist of 60000 and 10000 images and their corresponding labels.  \n",
        "* Each element of training data (image) is 2 dimensional matrix of 28 by 28 (pixels).\n",
        "* The label is one number representing each type of image, so it's scaler and hence has 0 dimension."
      ],
      "metadata": {
        "id": "oprM_LC27DXP"
      }
    },
    {
      "cell_type": "code",
      "source": [
        "# Plot the first element of training data (we saw the number value representing every pixel of that data element)\n",
        "plt.imshow(X_train[0]);"
      ],
      "metadata": {
        "colab": {
          "base_uri": "https://localhost:8080/",
          "height": 430
        },
        "id": "ohbdejEO9L9J",
        "outputId": "11729a05-a09e-4b00-dcc1-efa9f2152306"
      },
      "execution_count": 6,
      "outputs": [
        {
          "output_type": "display_data",
          "data": {
            "text/plain": [
              "<Figure size 640x480 with 1 Axes>"
            ],
            "image/png": "[encoded data removed]"
          },
          "metadata": {}
        }
      ]
    },
    {
      "cell_type": "code",
      "source": [
        "# Print the label of the first element again\n",
        "y_train[0]"
      ],
      "metadata": {
        "colab": {
          "base_uri": "https://localhost:8080/"
        },
        "id": "UUdVGZfs-pCJ",
        "outputId": "0c572859-a778-40e6-e45c-c673b4de9433"
      },
      "execution_count": 7,
      "outputs": [
        {
          "output_type": "execute_result",
          "data": {
            "text/plain": [
              "9"
            ]
          },
          "metadata": {},
          "execution_count": 7
        }
      ]
    },
    {
      "cell_type": "code",
      "source": [
        "# Let's create the list with labels from the fashion mnist dataset\n",
        "labels = [\"T-shirt/top\", \"Trouser\", \"Pullover\", \"Dress\", \"Coat\", \"Sandal\", \"Shirt\", \"Sneaker\", \"Bag\", \"Ankle boot\"]"
      ],
      "metadata": {
        "id": "vIaiPox7Ce1W"
      },
      "execution_count": 8,
      "outputs": []
    },
    {
      "cell_type": "code",
      "source": [
        "# Now we can use the labels list to see the label for the first data element of the training set\n",
        "print(\"The first element of the training dataset represents \", labels[y_train[0]])"
      ],
      "metadata": {
        "colab": {
          "base_uri": "https://localhost:8080/"
        },
        "id": "ohi8R7kqC3-A",
        "outputId": "c1044a9c-bdac-4670-bd55-f1059a27f17c"
      },
      "execution_count": 9,
      "outputs": [
        {
          "output_type": "stream",
          "name": "stdout",
          "text": [
            "The first element of the training dataset represents  Ankle boot\n"
          ]
        }
      ]
    },
    {
      "cell_type": "code",
      "source": [
        "# Now instead of checking the data element and the corresponding label of one element at a time, let's write code to plot\n",
        "# 4 the image and the corresponding label of 4 random data elements. We can run that set of code multiple times to get better\n",
        "# understanding of our data\n",
        "\n",
        "plt.figure(figsize=(8, 8))\n",
        "for i in range(4):\n",
        "  ax = plt.subplot(2, 2, i+1)\n",
        "  # Pick a random number, which will be the index of the element we want to plot\n",
        "  ind = rnd.choice(range(len(X_train)))\n",
        "  plt.imshow(X_train[ind])\n",
        "  plt.title(labels[y_train[ind]])\n",
        "  plt.axis(False);"
      ],
      "metadata": {
        "colab": {
          "base_uri": "https://localhost:8080/",
          "height": 675
        },
        "id": "cx_tVQUgE-dL",
        "outputId": "13ca8884-960e-4008-c56b-9032bfa34b7d"
      },
      "execution_count": 10,
      "outputs": [
        {
          "output_type": "display_data",
          "data": {
            "text/plain": [
              "<Figure size 800x800 with 4 Axes>"
            ],
            "image/png": "[encoded data removed]"
          },
          "metadata": {}
        }
      ]
    },
    {
      "cell_type": "markdown",
      "source": [
        "### Step 4 - Build Multi-class Classification Model"
      ],
      "metadata": {
        "id": "ysHFgWu8MuCA"
      }
    },
    {
      "cell_type": "markdown",
      "source": [
        "#### Experiment 1\n",
        "Build the first model with 1 hidden layer of 16 nurons, fit it with the training data and see how it evaluates on the test data."
      ],
      "metadata": {
        "id": "vaC8_Jw9MHfO"
      }
    },
    {
      "cell_type": "code",
      "source": [
        "# Create random seed\n",
        "tf.random.set_seed(42)\n",
        "\n",
        "# Build the model\n",
        "model_01 = tf.keras.Sequential([\n",
        "    tf.keras.layers.Flatten(input_shape=(28, 28)), # The shape of each element of training data\n",
        "    tf.keras.layers.Dense(16, activation=\"relu\"), # Hidden layer with 4 nurons and relu activation\n",
        "    tf.keras.layers.Dense(10, activation=tf.keras.activations.softmax) # Output layer with 10 nurons, one for each of the 10 output classes\n",
        "])\n",
        "\n",
        "# Compile the model\n",
        "model_01.compile(\n",
        "    loss=tf.keras.losses.SparseCategoricalCrossentropy(), # Using SparseCategoricalCrossentropy because our data isn't encoded\n",
        "    optimizer=tf.keras.optimizers.Adam(),\n",
        "    metrics=[\"accuracy\"]\n",
        ")\n",
        "\n",
        "# Fit the model\n",
        "hist_01 = model_01.fit(\n",
        "    X_train,\n",
        "    y_train,\n",
        "    epochs=10,\n",
        "    validation_data=(X_test, y_test)\n",
        ")"
      ],
      "metadata": {
        "id": "XLJ6664TM0hH",
        "colab": {
          "base_uri": "https://localhost:8080/"
        },
        "outputId": "ad489a8e-2d9a-4a3a-cb81-001ffd2206dd"
      },
      "execution_count": 11,
      "outputs": [
        {
          "output_type": "stream",
          "name": "stdout",
          "text": [
            "Epoch 1/10\n",
            "1875/1875 [==============================] - 8s 3ms/step - loss: 2.5978 - accuracy: 0.1357 - val_loss: 2.0986 - val_accuracy: 0.1767\n",
            "Epoch 2/10\n",
            "1875/1875 [==============================] - 6s 3ms/step - loss: 2.0772 - accuracy: 0.1740 - val_loss: 2.0155 - val_accuracy: 0.2030\n",
            "Epoch 3/10\n",
            "1875/1875 [==============================] - 6s 3ms/step - loss: 1.9463 - accuracy: 0.2149 - val_loss: 1.7661 - val_accuracy: 0.2646\n",
            "Epoch 4/10\n",
            "1875/1875 [==============================] - 6s 3ms/step - loss: 1.7248 - accuracy: 0.2740 - val_loss: 1.6775 - val_accuracy: 0.2950\n",
            "Epoch 5/10\n",
            "1875/1875 [==============================] - 5s 3ms/step - loss: 1.6573 - accuracy: 0.2978 - val_loss: 1.6787 - val_accuracy: 0.3203\n",
            "Epoch 6/10\n",
            "1875/1875 [==============================] - 6s 3ms/step - loss: 1.6315 - accuracy: 0.3156 - val_loss: 1.6128 - val_accuracy: 0.3396\n",
            "Epoch 7/10\n",
            "1875/1875 [==============================] - 5s 3ms/step - loss: 1.5852 - accuracy: 0.3370 - val_loss: 1.5879 - val_accuracy: 0.3465\n",
            "Epoch 8/10\n",
            "1875/1875 [==============================] - 6s 3ms/step - loss: 1.5670 - accuracy: 0.3388 - val_loss: 1.5574 - val_accuracy: 0.3530\n",
            "Epoch 9/10\n",
            "1875/1875 [==============================] - 6s 3ms/step - loss: 1.5495 - accuracy: 0.3443 - val_loss: 1.5988 - val_accuracy: 0.3326\n",
            "Epoch 10/10\n",
            "1875/1875 [==============================] - 6s 3ms/step - loss: 1.5384 - accuracy: 0.3481 - val_loss: 1.5123 - val_accuracy: 0.3578\n"
          ]
        }
      ]
    },
    {
      "cell_type": "markdown",
      "source": [
        "##### Observation\n",
        "Based on above result, we see after 10 epochs our first model has 35% accuracy. As our data has 10 output classes, if we make random guess, we should get 10% accuracy. So our model is 5 times better predicting the output than pure random guess. However we will do few more experiments to see if we can improve the model accuracy."
      ],
      "metadata": {
        "id": "1UgTZjMmMoIh"
      }
    },
    {
      "cell_type": "markdown",
      "source": [
        "#### Experiment 2\n",
        "Let's increase the number of nurons and see if that impacts on model accuracy."
      ],
      "metadata": {
        "id": "qmCWex7FNu9g"
      }
    },
    {
      "cell_type": "code",
      "source": [
        "# Create random seed\n",
        "tf.random.set_seed(42)\n",
        "\n",
        "# Build the model\n",
        "model_02 = tf.keras.Sequential([\n",
        "    tf.keras.layers.Flatten(input_shape=(28, 28)),\n",
        "    tf.keras.layers.Dense(128, activation=\"relu\"),\n",
        "    tf.keras.layers.Dense(10, activation=tf.keras.activations.softmax)\n",
        "])\n",
        "\n",
        "# Compile the model\n",
        "model_02.compile(\n",
        "    loss=tf.keras.losses.SparseCategoricalCrossentropy(),\n",
        "    optimizer=tf.keras.optimizers.Adam(),\n",
        "    metrics=['accuracy']\n",
        ")\n",
        "\n",
        "# Fit the model with training data and evaluate on test data\n",
        "hist_02 = model_02.fit(X_train,\n",
        "                       y_train,\n",
        "                       epochs=10,\n",
        "                       validation_data=(X_test, y_test)\n",
        "                       )"
      ],
      "metadata": {
        "colab": {
          "base_uri": "https://localhost:8080/"
        },
        "id": "1k3KBiZbONAa",
        "outputId": "7c4a2162-164f-4a9b-c616-efdea1b63fc0"
      },
      "execution_count": 12,
      "outputs": [
        {
          "output_type": "stream",
          "name": "stdout",
          "text": [
            "Epoch 1/10\n",
            "1875/1875 [==============================] - 6s 3ms/step - loss: 3.7593 - accuracy: 0.7072 - val_loss: 0.7916 - val_accuracy: 0.7385\n",
            "Epoch 2/10\n",
            "1875/1875 [==============================] - 7s 4ms/step - loss: 0.6617 - accuracy: 0.7665 - val_loss: 0.7377 - val_accuracy: 0.7525\n",
            "Epoch 3/10\n",
            "1875/1875 [==============================] - 5s 3ms/step - loss: 0.5840 - accuracy: 0.7989 - val_loss: 0.6046 - val_accuracy: 0.7802\n",
            "Epoch 4/10\n",
            "1875/1875 [==============================] - 6s 3ms/step - loss: 0.5451 - accuracy: 0.8160 - val_loss: 0.5665 - val_accuracy: 0.8191\n",
            "Epoch 5/10\n",
            "1875/1875 [==============================] - 5s 3ms/step - loss: 0.5174 - accuracy: 0.8248 - val_loss: 0.5363 - val_accuracy: 0.8225\n",
            "Epoch 6/10\n",
            "1875/1875 [==============================] - 6s 3ms/step - loss: 0.5017 - accuracy: 0.8313 - val_loss: 0.5674 - val_accuracy: 0.8030\n",
            "Epoch 7/10\n",
            "1875/1875 [==============================] - 5s 3ms/step - loss: 0.4871 - accuracy: 0.8365 - val_loss: 0.5276 - val_accuracy: 0.8311\n",
            "Epoch 8/10\n",
            "1875/1875 [==============================] - 6s 3ms/step - loss: 0.4731 - accuracy: 0.8403 - val_loss: 0.5102 - val_accuracy: 0.8370\n",
            "Epoch 9/10\n",
            "1875/1875 [==============================] - 5s 3ms/step - loss: 0.4685 - accuracy: 0.8414 - val_loss: 0.5186 - val_accuracy: 0.8354\n",
            "Epoch 10/10\n",
            "1875/1875 [==============================] - 6s 3ms/step - loss: 0.4659 - accuracy: 0.8457 - val_loss: 0.5652 - val_accuracy: 0.8196\n"
          ]
        }
      ]
    },
    {
      "cell_type": "markdown",
      "source": [
        "##### Observation\n",
        "Based on above result, we see after 10 epochs our second model has more than 80% of accuracy with test data. So we can infer that by reducing one hidden layer and increasing the number of nurons in the remaining hidden layer has increased the model accuracy from 35% to 80%. So we will continue with our second model and run few more experiemnts with different settings."
      ],
      "metadata": {
        "id": "lfN5qeDMQ0zu"
      }
    },
    {
      "cell_type": "code",
      "source": [
        "# Let's check the summary of the model\n",
        "model_02.summary()"
      ],
      "metadata": {
        "colab": {
          "base_uri": "https://localhost:8080/"
        },
        "id": "ntEedLjHbJy1",
        "outputId": "2f5b0f21-ce31-4f34-b260-02adee10cb77"
      },
      "execution_count": 13,
      "outputs": [
        {
          "output_type": "stream",
          "name": "stdout",
          "text": [
            "Model: \"sequential_1\"\n",
            "_________________________________________________________________\n",
            " Layer (type)                Output Shape              Param #   \n",
            "=================================================================\n",
            " flatten_1 (Flatten)         (None, 784)               0         \n",
            "                                                                 \n",
            " dense_2 (Dense)             (None, 128)               100480    \n",
            "                                                                 \n",
            " dense_3 (Dense)             (None, 10)                1290      \n",
            "                                                                 \n",
            "=================================================================\n",
            "Total params: 101770 (397.54 KB)\n",
            "Trainable params: 101770 (397.54 KB)\n",
            "Non-trainable params: 0 (0.00 Byte)\n",
            "_________________________________________________________________\n"
          ]
        }
      ]
    },
    {
      "cell_type": "markdown",
      "source": [
        "##### Observation\n",
        "The model summary gives two information -\n",
        "* **Output shape** - It indicates the shape of the layer. So in our case the flatten layer has 28*28 (the shape of each of the input unit) = 784. The Dense layers has the shape as the number of nurons we chose for the respective layer.\n",
        "* **Param** - It's the product of input shape and the number of nurons for each of the dense layer. It follows the calculation as [output shape of the previous layer] X [number of nurons in the dense layer] + [number of nurons in the dense layer]."
      ],
      "metadata": {
        "id": "YLUDljfqdOP1"
      }
    },
    {
      "cell_type": "markdown",
      "source": [
        "#### Experiment 3\n",
        "Let's run another experiment with the same model we got from the second experiemnt as that gave us much better result. However this time we will scale (normalize) our input data (both train and test) and see if that scaling is causing any improvement of our model performance."
      ],
      "metadata": {
        "id": "Qwj80jJczjTJ"
      }
    },
    {
      "cell_type": "code",
      "source": [
        "# Find the minimum and maximum of our training and test data\n",
        "X_train.min(), X_train.max(), X_test.min(), X_test.max()"
      ],
      "metadata": {
        "colab": {
          "base_uri": "https://localhost:8080/"
        },
        "id": "zP4kjZxx0DUx",
        "outputId": "0383b00f-3c42-4c25-8f35-0cecff3e8169"
      },
      "execution_count": 14,
      "outputs": [
        {
          "output_type": "execute_result",
          "data": {
            "text/plain": [
              "(0, 255, 0, 255)"
            ]
          },
          "metadata": {},
          "execution_count": 14
        }
      ]
    },
    {
      "cell_type": "markdown",
      "source": [
        "This means the minimum and maximum numerical value in each pixel of the 28 by 28 pixel image of both training and test data can be 0 and 255 respectively. So we can divide the pixel value by the maximum value (255) to get our input data scaled to fall between 0 and 1, which is called **Normalization**."
      ],
      "metadata": {
        "id": "Hy5iMUUI0zjb"
      }
    },
    {
      "cell_type": "code",
      "source": [
        "X_train_norm = X_train / X_train.max()\n",
        "X_test_norm = X_test / X_test.max()\n",
        "\n",
        "# Find the minimum and maximum of our training and test data after normalization\n",
        "X_train_norm.min(), X_train_norm.max(), X_test_norm.min(), X_test_norm.max()"
      ],
      "metadata": {
        "colab": {
          "base_uri": "https://localhost:8080/"
        },
        "id": "66dSVf7L0pam",
        "outputId": "5d2371e2-a7f9-468d-e4f7-6a4ddb9de184"
      },
      "execution_count": 15,
      "outputs": [
        {
          "output_type": "execute_result",
          "data": {
            "text/plain": [
              "(0.0, 1.0, 0.0, 1.0)"
            ]
          },
          "metadata": {},
          "execution_count": 15
        }
      ]
    },
    {
      "cell_type": "code",
      "source": [
        "# Now let's run the experiemnt on normalized data with our previous model\n",
        "\n",
        "# Create random seed\n",
        "tf.random.set_seed(42)\n",
        "\n",
        "# Create the model\n",
        "model_03 = tf.keras.Sequential([\n",
        "    tf.keras.layers.Flatten(input_shape=(28, 28)),\n",
        "    tf.keras.layers.Dense(128, activation=\"relu\"),\n",
        "    tf.keras.layers.Dense(10, activation=\"softmax\")\n",
        "])\n",
        "\n",
        "model_03.compile(\n",
        "    loss = tf.keras.losses.SparseCategoricalCrossentropy(),\n",
        "    optimizer = tf.keras.optimizers.Adam(),\n",
        "    metrics=[\"accuracy\"]\n",
        ")\n",
        "\n",
        "# Fit the model with the normalized training data and evaluate on the normalized test data\n",
        "hist_03 = model_03.fit(X_train_norm,\n",
        "                       y_train,\n",
        "                       epochs=10,\n",
        "                       validation_data=(X_test_norm, y_test)\n",
        "                       )"
      ],
      "metadata": {
        "colab": {
          "base_uri": "https://localhost:8080/"
        },
        "id": "NPm6ckAG2bks",
        "outputId": "b8e4ba1f-2c0b-498e-e9f8-8602436a49f1"
      },
      "execution_count": 17,
      "outputs": [
        {
          "output_type": "stream",
          "name": "stdout",
          "text": [
            "Epoch 1/10\n",
            "1875/1875 [==============================] - 7s 3ms/step - loss: 0.4990 - accuracy: 0.8248 - val_loss: 0.4229 - val_accuracy: 0.8456\n",
            "Epoch 2/10\n",
            "1875/1875 [==============================] - 5s 3ms/step - loss: 0.3748 - accuracy: 0.8652 - val_loss: 0.4578 - val_accuracy: 0.8445\n",
            "Epoch 3/10\n",
            "1875/1875 [==============================] - 6s 3ms/step - loss: 0.3374 - accuracy: 0.8768 - val_loss: 0.3816 - val_accuracy: 0.8594\n",
            "Epoch 4/10\n",
            "1875/1875 [==============================] - 6s 3ms/step - loss: 0.3133 - accuracy: 0.8852 - val_loss: 0.4058 - val_accuracy: 0.8529\n",
            "Epoch 5/10\n",
            "1875/1875 [==============================] - 6s 3ms/step - loss: 0.2949 - accuracy: 0.8907 - val_loss: 0.3684 - val_accuracy: 0.8718\n",
            "Epoch 6/10\n",
            "1875/1875 [==============================] - 6s 3ms/step - loss: 0.2796 - accuracy: 0.8964 - val_loss: 0.3896 - val_accuracy: 0.8556\n",
            "Epoch 7/10\n",
            "1875/1875 [==============================] - 6s 3ms/step - loss: 0.2692 - accuracy: 0.8995 - val_loss: 0.3524 - val_accuracy: 0.8728\n",
            "Epoch 8/10\n",
            "1875/1875 [==============================] - 6s 3ms/step - loss: 0.2573 - accuracy: 0.9044 - val_loss: 0.3262 - val_accuracy: 0.8852\n",
            "Epoch 9/10\n",
            "1875/1875 [==============================] - 6s 3ms/step - loss: 0.2477 - accuracy: 0.9076 - val_loss: 0.3274 - val_accuracy: 0.8828\n",
            "Epoch 10/10\n",
            "1875/1875 [==============================] - 6s 3ms/step - loss: 0.2399 - accuracy: 0.9107 - val_loss: 0.3470 - val_accuracy: 0.8809\n"
          ]
        }
      ]
    },
    {
      "cell_type": "markdown",
      "source": [
        "##### Observation\n",
        "Based on above result, we see after 10 epochs our third model has about 88% of accuracy with the test data. So we can infer that by running the normalized data with the same model has increased the model accuracy from 82% to 88%. This establishes the fact that neural networks prefer data which is scaled or normalized, meaning it will be between 0 and 1."
      ],
      "metadata": {
        "id": "iRq9RAaN2UBX"
      }
    },
    {
      "cell_type": "markdown",
      "source": [
        "### Step 5 - Evaluate Multi-class Classification Models\n",
        "In this steps we will check various attributes of the models we used in the previous experiemnts."
      ],
      "metadata": {
        "id": "8d2F-Lfj6rIf"
      }
    },
    {
      "cell_type": "markdown",
      "source": [
        "#### Plot Loss Curve\n",
        "We will plot loss curve of the model with the non-normalized data (experiemnt 2) and that with the normalized data (experiemnt 3)."
      ],
      "metadata": {
        "id": "KSLXtECf9LVb"
      }
    },
    {
      "cell_type": "code",
      "source": [
        "pd.DataFrame(hist_02.history).plot(title=\"Loss Curve with Non-Normalized Data\")\n",
        "pd.DataFrame(hist_03.history).plot(title=\"Loss Curve with Normalized Data\");"
      ],
      "metadata": {
        "colab": {
          "base_uri": "https://localhost:8080/",
          "height": 887
        },
        "id": "_2RSSiho9RH3",
        "outputId": "07eb7e80-ae09-4c42-e065-8303a03db9c5"
      },
      "execution_count": 19,
      "outputs": [
        {
          "output_type": "display_data",
          "data": {
            "text/plain": [
              "<Figure size 640x480 with 1 Axes>"
            ],
            "image/png": "[encoded data removed]"
          },
          "metadata": {}
        },
        {
          "output_type": "display_data",
          "data": {
            "text/plain": [
              "<Figure size 640x480 with 1 Axes>"
            ],
            "image/png": "[encoded data removed]"
          },
          "metadata": {}
        }
      ]
    },
    {
      "cell_type": "markdown",
      "source": [
        "##### Observation\n",
        "Based on the loss curves above, we see that the loss is comparatively smaller and the accuracy is comparatively higher when we are running the neural network model with normalized data."
      ],
      "metadata": {
        "id": "MZfsYenx_-zx"
      }
    },
    {
      "cell_type": "markdown",
      "source": [
        "#### Find the Ideal Learning Rate\n",
        "Ideal learning rate is the learning rate when the loss decreases the most. To do that, we will run the same experiemnt 3 but this time with learning rate callback.\n"
      ],
      "metadata": {
        "id": "pSxHrllWClpw"
      }
    },
    {
      "cell_type": "code",
      "source": [
        "# Create random seed\n",
        "tf.random.set_seed(42)\n",
        "\n",
        "# Create the model\n",
        "model_04 = tf.keras.Sequential([\n",
        "    tf.keras.layers.Flatten(input_shape=(28, 28)),\n",
        "    tf.keras.layers.Dense(128, activation=\"relu\"),\n",
        "    tf.keras.layers.Dense(10, activation=\"softmax\")\n",
        "])\n",
        "\n",
        "# Compile the model\n",
        "model_04.compile(\n",
        "    loss = tf.keras.losses.SparseCategoricalCrossentropy(),\n",
        "    optimizer = tf.keras.optimizers.Adam(),\n",
        "    metrics = ['accuracy']\n",
        ")\n",
        "\n",
        "# Create a learning rate scheduler\n",
        "lr_schedule = tf.keras.callbacks.LearningRateScheduler(lambda epoch: 1e-3 * 10**(epoch/20))\n",
        "\n",
        "# Fit the model with the normalized training data and evaluate on the normalized test data\n",
        "hist_04 = model_04.fit(X_train_norm,\n",
        "                       y_train,\n",
        "                       epochs = 40,\n",
        "                       validation_data = (X_test_norm, y_test),\n",
        "                       callbacks=[lr_schedule]\n",
        "                       )"
      ],
      "metadata": {
        "colab": {
          "base_uri": "https://localhost:8080/"
        },
        "id": "1HZn2hWNCpxy",
        "outputId": "1e38a949-d449-417e-a4fa-c7ba97589ff7"
      },
      "execution_count": 20,
      "outputs": [
        {
          "output_type": "stream",
          "name": "stdout",
          "text": [
            "Epoch 1/40\n",
            "1875/1875 [==============================] - 6s 3ms/step - loss: 0.5015 - accuracy: 0.8251 - val_loss: 0.4346 - val_accuracy: 0.8439 - lr: 0.0010\n",
            "Epoch 2/40\n",
            "1875/1875 [==============================] - 6s 3ms/step - loss: 0.3802 - accuracy: 0.8638 - val_loss: 0.4658 - val_accuracy: 0.8416 - lr: 0.0011\n",
            "Epoch 3/40\n",
            "1875/1875 [==============================] - 6s 3ms/step - loss: 0.3439 - accuracy: 0.8747 - val_loss: 0.3830 - val_accuracy: 0.8572 - lr: 0.0013\n",
            "Epoch 4/40\n",
            "1875/1875 [==============================] - 6s 3ms/step - loss: 0.3229 - accuracy: 0.8814 - val_loss: 0.4047 - val_accuracy: 0.8563 - lr: 0.0014\n",
            "Epoch 5/40\n",
            "1875/1875 [==============================] - 5s 3ms/step - loss: 0.3092 - accuracy: 0.8855 - val_loss: 0.3823 - val_accuracy: 0.8683 - lr: 0.0016\n",
            "Epoch 6/40\n",
            "1875/1875 [==============================] - 6s 3ms/step - loss: 0.2999 - accuracy: 0.8891 - val_loss: 0.3871 - val_accuracy: 0.8569 - lr: 0.0018\n",
            "Epoch 7/40\n",
            "1875/1875 [==============================] - 5s 3ms/step - loss: 0.2945 - accuracy: 0.8920 - val_loss: 0.3710 - val_accuracy: 0.8680 - lr: 0.0020\n",
            "Epoch 8/40\n",
            "1875/1875 [==============================] - 6s 3ms/step - loss: 0.2892 - accuracy: 0.8925 - val_loss: 0.3497 - val_accuracy: 0.8782 - lr: 0.0022\n",
            "Epoch 9/40\n",
            "1875/1875 [==============================] - 5s 3ms/step - loss: 0.2868 - accuracy: 0.8933 - val_loss: 0.3535 - val_accuracy: 0.8736 - lr: 0.0025\n",
            "Epoch 10/40\n",
            "1875/1875 [==============================] - 6s 3ms/step - loss: 0.2859 - accuracy: 0.8944 - val_loss: 0.4002 - val_accuracy: 0.8624 - lr: 0.0028\n",
            "Epoch 11/40\n",
            "1875/1875 [==============================] - 6s 3ms/step - loss: 0.2856 - accuracy: 0.8934 - val_loss: 0.4130 - val_accuracy: 0.8620 - lr: 0.0032\n",
            "Epoch 12/40\n",
            "1875/1875 [==============================] - 6s 3ms/step - loss: 0.2934 - accuracy: 0.8920 - val_loss: 0.4281 - val_accuracy: 0.8585 - lr: 0.0035\n",
            "Epoch 13/40\n",
            "1875/1875 [==============================] - 6s 3ms/step - loss: 0.2946 - accuracy: 0.8911 - val_loss: 0.3917 - val_accuracy: 0.8714 - lr: 0.0040\n",
            "Epoch 14/40\n",
            "1875/1875 [==============================] - 6s 3ms/step - loss: 0.3000 - accuracy: 0.8894 - val_loss: 0.3809 - val_accuracy: 0.8696 - lr: 0.0045\n",
            "Epoch 15/40\n",
            "1875/1875 [==============================] - 6s 3ms/step - loss: 0.3051 - accuracy: 0.8880 - val_loss: 0.4014 - val_accuracy: 0.8613 - lr: 0.0050\n",
            "Epoch 16/40\n",
            "1875/1875 [==============================] - 5s 3ms/step - loss: 0.3090 - accuracy: 0.8869 - val_loss: 0.4332 - val_accuracy: 0.8591 - lr: 0.0056\n",
            "Epoch 17/40\n",
            "1875/1875 [==============================] - 7s 4ms/step - loss: 0.3232 - accuracy: 0.8835 - val_loss: 0.4219 - val_accuracy: 0.8563 - lr: 0.0063\n",
            "Epoch 18/40\n",
            "1875/1875 [==============================] - 5s 3ms/step - loss: 0.3350 - accuracy: 0.8799 - val_loss: 0.4138 - val_accuracy: 0.8623 - lr: 0.0071\n",
            "Epoch 19/40\n",
            "1875/1875 [==============================] - 6s 3ms/step - loss: 0.3467 - accuracy: 0.8752 - val_loss: 0.4520 - val_accuracy: 0.8497 - lr: 0.0079\n",
            "Epoch 20/40\n",
            "1875/1875 [==============================] - 5s 3ms/step - loss: 0.3524 - accuracy: 0.8732 - val_loss: 0.4245 - val_accuracy: 0.8577 - lr: 0.0089\n",
            "Epoch 21/40\n",
            "1875/1875 [==============================] - 6s 3ms/step - loss: 0.3749 - accuracy: 0.8672 - val_loss: 0.4669 - val_accuracy: 0.8544 - lr: 0.0100\n",
            "Epoch 22/40\n",
            "1875/1875 [==============================] - 6s 3ms/step - loss: 0.3856 - accuracy: 0.8645 - val_loss: 0.4824 - val_accuracy: 0.8485 - lr: 0.0112\n",
            "Epoch 23/40\n",
            "1875/1875 [==============================] - 7s 3ms/step - loss: 0.3945 - accuracy: 0.8615 - val_loss: 0.5328 - val_accuracy: 0.8284 - lr: 0.0126\n",
            "Epoch 24/40\n",
            "1875/1875 [==============================] - 6s 3ms/step - loss: 0.4180 - accuracy: 0.8530 - val_loss: 0.5007 - val_accuracy: 0.8377 - lr: 0.0141\n",
            "Epoch 25/40\n",
            "1875/1875 [==============================] - 6s 3ms/step - loss: 0.4462 - accuracy: 0.8431 - val_loss: 0.5968 - val_accuracy: 0.7993 - lr: 0.0158\n",
            "Epoch 26/40\n",
            "1875/1875 [==============================] - 6s 3ms/step - loss: 0.4612 - accuracy: 0.8424 - val_loss: 0.6591 - val_accuracy: 0.8204 - lr: 0.0178\n",
            "Epoch 27/40\n",
            "1875/1875 [==============================] - 6s 3ms/step - loss: 0.5039 - accuracy: 0.8291 - val_loss: 0.5689 - val_accuracy: 0.8237 - lr: 0.0200\n",
            "Epoch 28/40\n",
            "1875/1875 [==============================] - 6s 3ms/step - loss: 0.5262 - accuracy: 0.8276 - val_loss: 0.6363 - val_accuracy: 0.8087 - lr: 0.0224\n",
            "Epoch 29/40\n",
            "1875/1875 [==============================] - 6s 3ms/step - loss: 0.5547 - accuracy: 0.8170 - val_loss: 0.6011 - val_accuracy: 0.8150 - lr: 0.0251\n",
            "Epoch 30/40\n",
            "1875/1875 [==============================] - 6s 3ms/step - loss: 0.5984 - accuracy: 0.8135 - val_loss: 0.6583 - val_accuracy: 0.8136 - lr: 0.0282\n",
            "Epoch 31/40\n",
            "1875/1875 [==============================] - 6s 3ms/step - loss: 0.6491 - accuracy: 0.8013 - val_loss: 0.7438 - val_accuracy: 0.7975 - lr: 0.0316\n",
            "Epoch 32/40\n",
            "1875/1875 [==============================] - 6s 3ms/step - loss: 0.7614 - accuracy: 0.7418 - val_loss: 0.8930 - val_accuracy: 0.7278 - lr: 0.0355\n",
            "Epoch 33/40\n",
            "1875/1875 [==============================] - 6s 3ms/step - loss: 0.8308 - accuracy: 0.7034 - val_loss: 0.8628 - val_accuracy: 0.6896 - lr: 0.0398\n",
            "Epoch 34/40\n",
            "1875/1875 [==============================] - 6s 3ms/step - loss: 0.9615 - accuracy: 0.6519 - val_loss: 1.0564 - val_accuracy: 0.6085 - lr: 0.0447\n",
            "Epoch 35/40\n",
            "1875/1875 [==============================] - 6s 3ms/step - loss: 1.0210 - accuracy: 0.6169 - val_loss: 1.0930 - val_accuracy: 0.6066 - lr: 0.0501\n",
            "Epoch 36/40\n",
            "1875/1875 [==============================] - 6s 3ms/step - loss: 1.0786 - accuracy: 0.6066 - val_loss: 1.1749 - val_accuracy: 0.5819 - lr: 0.0562\n",
            "Epoch 37/40\n",
            "1875/1875 [==============================] - 6s 3ms/step - loss: 1.2318 - accuracy: 0.5748 - val_loss: 1.2435 - val_accuracy: 0.5707 - lr: 0.0631\n",
            "Epoch 38/40\n",
            "1875/1875 [==============================] - 6s 3ms/step - loss: 1.3881 - accuracy: 0.5375 - val_loss: 1.4905 - val_accuracy: 0.5477 - lr: 0.0708\n",
            "Epoch 39/40\n",
            "1875/1875 [==============================] - 7s 4ms/step - loss: 1.4000 - accuracy: 0.5161 - val_loss: 2.0497 - val_accuracy: 0.4877 - lr: 0.0794\n",
            "Epoch 40/40\n",
            "1875/1875 [==============================] - 6s 3ms/step - loss: 1.6803 - accuracy: 0.3955 - val_loss: 2.0068 - val_accuracy: 0.3700 - lr: 0.0891\n"
          ]
        }
      ]
    },
    {
      "cell_type": "code",
      "source": [
        "# Plot the learning rate curve in log scaled plot\n",
        "xax = 1e-3 * (10**(tf.range(40)/20))\n",
        "yax = hist_04.history['loss']\n",
        "plt.semilogx(xax, yax)\n",
        "plt.xlabel(\"Learning Rate\")\n",
        "plt.ylabel(\"Loss\")\n",
        "plt.title(\"Finding Ideal Learning Rate\");"
      ],
      "metadata": {
        "colab": {
          "base_uri": "https://localhost:8080/",
          "height": 476
        },
        "id": "J89NFz8AJ7pm",
        "outputId": "83309d5a-7753-4f6d-b4e6-58b791ed07d3"
      },
      "execution_count": 21,
      "outputs": [
        {
          "output_type": "display_data",
          "data": {
            "text/plain": [
              "<Figure size 640x480 with 1 Axes>"
            ],
            "image/png": "[encoded data removed]"
          },
          "metadata": {}
        }
      ]
    },
    {
      "cell_type": "markdown",
      "source": [
        "##### Observation\n",
        "Based on the above learning rate curve, we see that the loss is minimum at about 0.002 or 2e-3, which is very close to the default learning rate (0.001) of Adam optimizer we are using. So we will use that learning rate and run our model with normalized data."
      ],
      "metadata": {
        "id": "FdcCq2jONmxf"
      }
    },
    {
      "cell_type": "markdown",
      "source": [
        "#### Experiment 5\n",
        "Let's run another experiment with the same model and normalized data but this time with learning rate as 0.002 as we found above that is the ideal learning rate."
      ],
      "metadata": {
        "id": "uGP3S_3gPX_T"
      }
    },
    {
      "cell_type": "code",
      "source": [
        "# Create random seed\n",
        "tf.random.set_seed(42)\n",
        "\n",
        "# Create the model\n",
        "model_05 = tf.keras.Sequential([\n",
        "    tf.keras.layers.Flatten(input_shape=(28, 28)),\n",
        "    tf.keras.layers.Dense(128, activation=\"relu\"),\n",
        "    tf.keras.layers.Dense(10, activation=\"softmax\")\n",
        "])\n",
        "\n",
        "# Compile the model\n",
        "model_05.compile(\n",
        "    loss = tf.keras.losses.SparseCategoricalCrossentropy(),\n",
        "    optimizer = tf.keras.optimizers.Adam(learning_rate=0.002),\n",
        "    metrics=[\"accuracy\"]\n",
        ")\n",
        "\n",
        "# Fit the model with the normalized training data and evaluate on the normalized test data\n",
        "hist_05 = model_05.fit(X_train_norm,\n",
        "                       y_train,\n",
        "                       epochs=20,\n",
        "                       validation_data=(X_test_norm, y_test)\n",
        "                       )"
      ],
      "metadata": {
        "colab": {
          "base_uri": "https://localhost:8080/"
        },
        "id": "3JpXG_bcP85C",
        "outputId": "3e70156b-0184-485f-ff93-c3754d68393b"
      },
      "execution_count": 22,
      "outputs": [
        {
          "output_type": "stream",
          "name": "stdout",
          "text": [
            "Epoch 1/20\n",
            "1875/1875 [==============================] - 7s 3ms/step - loss: 0.4832 - accuracy: 0.8285 - val_loss: 0.4069 - val_accuracy: 0.8517\n",
            "Epoch 2/20\n",
            "1875/1875 [==============================] - 5s 3ms/step - loss: 0.3659 - accuracy: 0.8672 - val_loss: 0.4382 - val_accuracy: 0.8482\n",
            "Epoch 3/20\n",
            "1875/1875 [==============================] - 6s 3ms/step - loss: 0.3356 - accuracy: 0.8767 - val_loss: 0.3847 - val_accuracy: 0.8598\n",
            "Epoch 4/20\n",
            "1875/1875 [==============================] - 6s 3ms/step - loss: 0.3149 - accuracy: 0.8845 - val_loss: 0.3955 - val_accuracy: 0.8591\n",
            "Epoch 5/20\n",
            "1875/1875 [==============================] - 6s 3ms/step - loss: 0.2985 - accuracy: 0.8899 - val_loss: 0.3757 - val_accuracy: 0.8643\n",
            "Epoch 6/20\n",
            "1875/1875 [==============================] - 5s 3ms/step - loss: 0.2866 - accuracy: 0.8935 - val_loss: 0.3811 - val_accuracy: 0.8553\n",
            "Epoch 7/20\n",
            "1875/1875 [==============================] - 7s 4ms/step - loss: 0.2763 - accuracy: 0.8965 - val_loss: 0.3822 - val_accuracy: 0.8693\n",
            "Epoch 8/20\n",
            "1875/1875 [==============================] - 5s 3ms/step - loss: 0.2666 - accuracy: 0.9004 - val_loss: 0.3413 - val_accuracy: 0.8814\n",
            "Epoch 9/20\n",
            "1875/1875 [==============================] - 6s 3ms/step - loss: 0.2575 - accuracy: 0.9041 - val_loss: 0.3535 - val_accuracy: 0.8768\n",
            "Epoch 10/20\n",
            "1875/1875 [==============================] - 6s 3ms/step - loss: 0.2526 - accuracy: 0.9053 - val_loss: 0.3686 - val_accuracy: 0.8799\n",
            "Epoch 11/20\n",
            "1875/1875 [==============================] - 7s 4ms/step - loss: 0.2449 - accuracy: 0.9079 - val_loss: 0.3676 - val_accuracy: 0.8818\n",
            "Epoch 12/20\n",
            "1875/1875 [==============================] - 5s 3ms/step - loss: 0.2362 - accuracy: 0.9115 - val_loss: 0.3716 - val_accuracy: 0.8769\n",
            "Epoch 13/20\n",
            "1875/1875 [==============================] - 6s 3ms/step - loss: 0.2332 - accuracy: 0.9121 - val_loss: 0.3694 - val_accuracy: 0.8823\n",
            "Epoch 14/20\n",
            "1875/1875 [==============================] - 5s 3ms/step - loss: 0.2275 - accuracy: 0.9147 - val_loss: 0.3669 - val_accuracy: 0.8847\n",
            "Epoch 15/20\n",
            "1875/1875 [==============================] - 6s 3ms/step - loss: 0.2205 - accuracy: 0.9169 - val_loss: 0.3818 - val_accuracy: 0.8737\n",
            "Epoch 16/20\n",
            "1875/1875 [==============================] - 6s 3ms/step - loss: 0.2156 - accuracy: 0.9187 - val_loss: 0.3977 - val_accuracy: 0.8720\n",
            "Epoch 17/20\n",
            "1875/1875 [==============================] - 5s 3ms/step - loss: 0.2120 - accuracy: 0.9196 - val_loss: 0.3641 - val_accuracy: 0.8858\n",
            "Epoch 18/20\n",
            "1875/1875 [==============================] - 6s 3ms/step - loss: 0.2075 - accuracy: 0.9220 - val_loss: 0.3825 - val_accuracy: 0.8842\n",
            "Epoch 19/20\n",
            "1875/1875 [==============================] - 5s 3ms/step - loss: 0.2029 - accuracy: 0.9231 - val_loss: 0.3773 - val_accuracy: 0.8791\n",
            "Epoch 20/20\n",
            "1875/1875 [==============================] - 6s 3ms/step - loss: 0.1987 - accuracy: 0.9256 - val_loss: 0.4205 - val_accuracy: 0.8748\n"
          ]
        }
      ]
    }
  ]
}