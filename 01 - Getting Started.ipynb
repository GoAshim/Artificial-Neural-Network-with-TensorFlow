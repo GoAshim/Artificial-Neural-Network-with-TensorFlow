{
  "cells": [
    {
      "cell_type": "markdown",
      "id": "918590a6",
      "metadata": {
        "id": "918590a6"
      },
      "source": [
        "## Deep Learning with Neural Networks using TensorFlow\n",
        "\n",
        "In this first program Deep Learning with Neural Networks using TensorFlow, we will start with simple program to get familiarize with the libraries, basic building blocs and how the overall program works."
      ]
    },
    {
      "cell_type": "markdown",
      "source": [
        "## Step 1 - Import Libraries"
      ],
      "metadata": {
        "id": "pNsG9FQCeKyp"
      },
      "id": "pNsG9FQCeKyp"
    },
    {
      "cell_type": "code",
      "execution_count": 1,
      "id": "44d4b035",
      "metadata": {
        "id": "44d4b035"
      },
      "outputs": [],
      "source": [
        "import tensorflow as tf\n",
        "import numpy as np\n",
        "from tensorflow import keras"
      ]
    },
    {
      "cell_type": "code",
      "source": [
        "# Check the version of tensorflow\n",
        "print(tf.__version__)"
      ],
      "metadata": {
        "id": "RqZZpPdDfaeS",
        "outputId": "1abd6d06-b8c9-46b0-f564-f1e2c1ab1d8c",
        "colab": {
          "base_uri": "https://localhost:8080/"
        }
      },
      "id": "RqZZpPdDfaeS",
      "execution_count": 2,
      "outputs": [
        {
          "output_type": "stream",
          "name": "stdout",
          "text": [
            "2.15.0\n"
          ]
        }
      ]
    }
  ],
  "metadata": {
    "kernelspec": {
      "display_name": "Python 3 (ipykernel)",
      "language": "python",
      "name": "python3"
    },
    "language_info": {
      "codemirror_mode": {
        "name": "ipython",
        "version": 3
      },
      "file_extension": ".py",
      "mimetype": "text/x-python",
      "name": "python",
      "nbconvert_exporter": "python",
      "pygments_lexer": "ipython3",
      "version": "3.11.5"
    },
    "colab": {
      "provenance": []
    }
  },
  "nbformat": 4,
  "nbformat_minor": 5
}