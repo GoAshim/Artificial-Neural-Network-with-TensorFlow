{
  "nbformat": 4,
  "nbformat_minor": 0,
  "metadata": {
    "colab": {
      "provenance": [],
      "authorship_tag": "ABX9TyNdScg6ERco8PQ+DA0csTBc",
      "include_colab_link": true
    },
    "kernelspec": {
      "name": "python3",
      "display_name": "Python 3"
    },
    "language_info": {
      "name": "python"
    }
  },
  "cells": [
    {
      "cell_type": "markdown",
      "metadata": {
        "id": "view-in-github",
        "colab_type": "text"
      },
      "source": [
        "<a href=\"https://colab.research.google.com/github/GoAshim/Deep-Learning-with-TensorFlow/blob/main/03_Regression_Problem_with_TensorFlow_Predict_Premium.ipynb\" target=\"_parent\"><img src=\"https://colab.research.google.com/assets/colab-badge.svg\" alt=\"Open In Colab\"/></a>"
      ]
    },
    {
      "cell_type": "markdown",
      "source": [
        "# Solving Regression Problem with Neural Networks using TensorFlow\n",
        "In this project we will use neural networks in TensorFlow with a simple dataset to predict a numerical variable (or target feature) based on one or more other variables (input features). The scope of this project is to learn the fundamentals of neural network in tensorflow by going through\n",
        "the steps to build and train the model and use the model to predict result with unknown data."
      ],
      "metadata": {
        "id": "9pIQ005_3BSd"
      }
    },
    {
      "cell_type": "code",
      "source": [
        "# Import libraries\n",
        "import numpy as np\n",
        "import pandas as pd\n",
        "import matplotlib.pyplot as plt\n",
        "import tensorflow as tf\n",
        "\n",
        "# Check version of tensorflow\n",
        "tf.__version__"
      ],
      "metadata": {
        "colab": {
          "base_uri": "https://localhost:8080/",
          "height": 35
        },
        "id": "nD-ZQS0A4LZd",
        "outputId": "b8f595e8-cb5a-456e-9a84-9ecde0ab06f8"
      },
      "execution_count": 9,
      "outputs": [
        {
          "output_type": "execute_result",
          "data": {
            "text/plain": [
              "'2.15.0'"
            ],
            "application/vnd.google.colaboratory.intrinsic+json": {
              "type": "string"
            }
          },
          "metadata": {},
          "execution_count": 9
        }
      ]
    },
    {
      "cell_type": "markdown",
      "source": [
        "### Loading data\n",
        "In this project we will create a very simple dataset with one feature and one label."
      ],
      "metadata": {
        "id": "MImbQ0I4HDDC"
      }
    },
    {
      "cell_type": "code",
      "source": [
        "# Create feature data\n",
        "X = np.array([-7., -4., -1., 2., 5., 8., 11., 14.])\n",
        "\n",
        "# Create label data\n",
        "y = np.array([3., 6., 9., 12., 15., 18., 21., 24.])\n",
        "\n",
        "X, y"
      ],
      "metadata": {
        "colab": {
          "base_uri": "https://localhost:8080/"
        },
        "id": "E2jWJIPaH8Hx",
        "outputId": "c916ba81-d974-4b85-d80c-607d29a6a7dc"
      },
      "execution_count": 3,
      "outputs": [
        {
          "output_type": "execute_result",
          "data": {
            "text/plain": [
              "(array([-7., -4., -1.,  2.,  5.,  8., 11., 14.]),\n",
              " array([ 3.,  6.,  9., 12., 15., 18., 21., 24.]))"
            ]
          },
          "metadata": {},
          "execution_count": 3
        }
      ]
    },
    {
      "cell_type": "code",
      "source": [
        "# Convert both features and labels from numpy array to tensor\n",
        "X = tf.constant(X)\n",
        "y = tf.constant(y)\n",
        "X, y"
      ],
      "metadata": {
        "colab": {
          "base_uri": "https://localhost:8080/"
        },
        "id": "3hVLCJkDIkyY",
        "outputId": "6691b16e-1ee9-49cc-d72f-908cc9ff3839"
      },
      "execution_count": 4,
      "outputs": [
        {
          "output_type": "execute_result",
          "data": {
            "text/plain": [
              "(<tf.Tensor: shape=(8,), dtype=float64, numpy=array([-7., -4., -1.,  2.,  5.,  8., 11., 14.])>,\n",
              " <tf.Tensor: shape=(8,), dtype=float64, numpy=array([ 3.,  6.,  9., 12., 15., 18., 21., 24.])>)"
            ]
          },
          "metadata": {},
          "execution_count": 4
        }
      ]
    },
    {
      "cell_type": "markdown",
      "source": [
        "### Creating deep learning model with TensorFlow\n",
        "We are going to run the following steps -\n",
        "* **Creating the model** - We will create the model by defining the following of a neural network model.\n",
        "  * Input layer\n",
        "  * Output layer\n",
        "  * Hidden layer(s) - One or more layers in between the input and output layer.\n",
        "* **Compiling the model** - We will compile the model by defining the following of a neural network model.\n",
        "  * Loss function - This tells our model how much wrong it is.\n",
        "  * Optimizer - This tells our model how to reduce the loss, in other words how to improve it's performance.\n",
        "  * Evaluation metrics - Helps to evaluate performance of the model.\n",
        "* **Fitting the model** - We will run the model with data and let it find pattern between feature(s) and target. Here we will specify -\n",
        "  * Epoch - The number of times the model will run on data to find the pattern."
      ],
      "metadata": {
        "id": "f8hl6R-lKAD7"
      }
    },
    {
      "cell_type": "code",
      "source": [
        "# Set the random seed\n",
        "tf.random.set_seed(42)\n",
        "\n",
        "# Create a sequential model and one dense layer\n",
        "model = tf.keras.Sequential()\n",
        "model.add(tf.keras.layers.Dense(1))\n",
        "\n",
        "# Compile the model\n",
        "model.compile(loss = tf.keras.losses.mae, # mae = Mean Absolute Error\n",
        "              optimizer = tf.keras.optimizers.SGD(),\n",
        "              metrics = [\"mae\"])\n",
        "\n",
        "# Fit"
      ],
      "metadata": {
        "colab": {
          "base_uri": "https://localhost:8080/"
        },
        "id": "eopCYSAJKhVn",
        "outputId": "928d763c-d4ad-4205-9cba-2411ec3a7a93"
      },
      "execution_count": 8,
      "outputs": [
        {
          "output_type": "execute_result",
          "data": {
            "text/plain": [
              "(<tf.Tensor: shape=(2, 3), dtype=float32, numpy=\n",
              " array([[1., 1., 1.],\n",
              "        [1., 1., 1.]], dtype=float32)>,\n",
              " TensorShape([2, 3]),\n",
              " TensorShape([8]),\n",
              " 2,\n",
              " 1)"
            ]
          },
          "metadata": {},
          "execution_count": 8
        }
      ]
    }
  ]
}