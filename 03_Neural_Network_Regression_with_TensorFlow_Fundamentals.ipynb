{
  "nbformat": 4,
  "nbformat_minor": 0,
  "metadata": {
    "colab": {
      "provenance": [],
      "authorship_tag": "ABX9TyMgO5P33OxldcmaUOlTDmmA",
      "include_colab_link": true
    },
    "kernelspec": {
      "name": "python3",
      "display_name": "Python 3"
    },
    "language_info": {
      "name": "python"
    }
  },
  "cells": [
    {
      "cell_type": "markdown",
      "metadata": {
        "id": "view-in-github",
        "colab_type": "text"
      },
      "source": [
        "<a href=\"https://colab.research.google.com/github/GoAshim/Deep-Learning-with-TensorFlow/blob/main/03_Neural_Network_Regression_with_TensorFlow_Fundamentals.ipynb\" target=\"_parent\"><img src=\"https://colab.research.google.com/assets/colab-badge.svg\" alt=\"Open In Colab\"/></a>"
      ]
    },
    {
      "cell_type": "markdown",
      "source": [
        "# Introduction to Regression with Neural Networks in TensorFlow\n",
        "In this project we will use neural networks in TensorFlow with a simple dataset to predict a numerical variable (or target feature) based on one or more other variables (input features). The scope of this project is to learn the fundamentals of neural network in tensorflow by going through\n",
        "the steps to build and train the model and use the model to predict result with unknown data."
      ],
      "metadata": {
        "id": "9pIQ005_3BSd"
      }
    },
    {
      "cell_type": "code",
      "source": [],
      "metadata": {
        "id": "nD-ZQS0A4LZd"
      },
      "execution_count": null,
      "outputs": []
    }
  ]
}