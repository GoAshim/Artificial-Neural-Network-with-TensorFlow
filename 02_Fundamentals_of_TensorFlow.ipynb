{
  "nbformat": 4,
  "nbformat_minor": 0,
  "metadata": {
    "colab": {
      "provenance": [],
      "authorship_tag": "ABX9TyM6M5uNwu8yPYoWkwSWZ8gB",
      "include_colab_link": true
    },
    "kernelspec": {
      "name": "python3",
      "display_name": "Python 3"
    },
    "language_info": {
      "name": "python"
    }
  },
  "cells": [
    {
      "cell_type": "markdown",
      "metadata": {
        "id": "view-in-github",
        "colab_type": "text"
      },
      "source": [
        "<a href=\"https://colab.research.google.com/github/GoAshim/Deep-Learning-with-TensorFlow/blob/main/02_Fundamentals_of_TensorFlow.ipynb\" target=\"_parent\"><img src=\"https://colab.research.google.com/assets/colab-badge.svg\" alt=\"Open In Colab\"/></a>"
      ]
    },
    {
      "cell_type": "markdown",
      "source": [
        "## Fundamentals of TensorFlow\n",
        "In this workbook we will not do any project, rather we will work on the fundamental concepts of Tensors using TensorFlow, which is going to help us when we do various Deep Learning projects using Neural Network in TensorFlow in the future workbooks.\n",
        "\n",
        "We will cover the following concepts in this workbook -\n",
        "* Introduction to tensors\n",
        "* Getting information from tensors\n",
        "* Updating / changing tensors\n",
        "* Comparing tensor & numpy\n",
        "* Using @tf function to speed up regular python function\n",
        "* Using GPU (or TPU) with TensorFlow"
      ],
      "metadata": {
        "id": "2EEGOOoFlGhw"
      }
    },
    {
      "cell_type": "markdown",
      "source": [
        "### Introduction to tensors"
      ],
      "metadata": {
        "id": "eB9jWD8trPjh"
      }
    },
    {
      "cell_type": "code",
      "source": [
        "# Import library\n",
        "import numpy as np\n",
        "import tensorflow as tf"
      ],
      "metadata": {
        "id": "S6wg-mwdrWj7"
      },
      "execution_count": 2,
      "outputs": []
    },
    {
      "cell_type": "code",
      "source": [
        "# Check the current version (as of Feb 3, 2024) of tensorflow\n",
        "ver = tf.__version__\n",
        "print(ver)"
      ],
      "metadata": {
        "colab": {
          "base_uri": "https://localhost:8080/"
        },
        "id": "8e03XhBwrnep",
        "outputId": "c3d0fe79-9c6e-4866-97ae-86181965bb8b"
      },
      "execution_count": 3,
      "outputs": [
        {
          "output_type": "stream",
          "name": "stdout",
          "text": [
            "2.15.0\n"
          ]
        }
      ]
    },
    {
      "cell_type": "markdown",
      "source": [
        "### Create Tensors from Constants `tf.constant()`"
      ],
      "metadata": {
        "id": "BiaQ0LLEsDob"
      }
    },
    {
      "cell_type": "code",
      "source": [
        "# Create a single value (scalar) constant tensor with value as numpy integer\n",
        "scalar = tf.constant(3)\n",
        "scalar"
      ],
      "metadata": {
        "colab": {
          "base_uri": "https://localhost:8080/"
        },
        "id": "gkiJRp9_vVmO",
        "outputId": "cf6340d0-5ab6-4e2f-8375-eb236fdfacd5"
      },
      "execution_count": 4,
      "outputs": [
        {
          "output_type": "execute_result",
          "data": {
            "text/plain": [
              "<tf.Tensor: shape=(), dtype=int32, numpy=3>"
            ]
          },
          "metadata": {},
          "execution_count": 4
        }
      ]
    },
    {
      "cell_type": "code",
      "source": [
        "# We see that it's a zero dimension tensor, meaning one constant value is like a point in space having zero dimension\n",
        "scalar.ndim"
      ],
      "metadata": {
        "colab": {
          "base_uri": "https://localhost:8080/"
        },
        "id": "oMvp9lVyvs0q",
        "outputId": "1a34b452-8010-401b-9801-14026e7037ee"
      },
      "execution_count": 5,
      "outputs": [
        {
          "output_type": "execute_result",
          "data": {
            "text/plain": [
              "0"
            ]
          },
          "metadata": {},
          "execution_count": 5
        }
      ]
    },
    {
      "cell_type": "code",
      "source": [
        "# Create a vector\n",
        "vector = tf.constant([3, 5])\n",
        "vector"
      ],
      "metadata": {
        "colab": {
          "base_uri": "https://localhost:8080/"
        },
        "id": "Bs8JVqsrw1St",
        "outputId": "7a0d28c1-c4a1-4d0a-8d39-c8beb1ed29f5"
      },
      "execution_count": 6,
      "outputs": [
        {
          "output_type": "execute_result",
          "data": {
            "text/plain": [
              "<tf.Tensor: shape=(2,), dtype=int32, numpy=array([3, 5], dtype=int32)>"
            ]
          },
          "metadata": {},
          "execution_count": 6
        }
      ]
    },
    {
      "cell_type": "code",
      "source": [
        "# We see that it's a one dimension tensor, meaning an array is like a line in space having one dimension\n",
        "vector.ndim"
      ],
      "metadata": {
        "colab": {
          "base_uri": "https://localhost:8080/"
        },
        "id": "8kd13WrIx5wb",
        "outputId": "17f5ac25-bdba-4697-a23c-e6b91d9a6396"
      },
      "execution_count": 7,
      "outputs": [
        {
          "output_type": "execute_result",
          "data": {
            "text/plain": [
              "1"
            ]
          },
          "metadata": {},
          "execution_count": 7
        }
      ]
    },
    {
      "cell_type": "code",
      "source": [
        "# Create a matrix\n",
        "matrix1 = tf.constant([[2, 4],\n",
        "                       [5, 8]])\n",
        "matrix1"
      ],
      "metadata": {
        "colab": {
          "base_uri": "https://localhost:8080/"
        },
        "id": "2wXpZ6cfySUU",
        "outputId": "17799422-10b7-47be-ed14-7f3f08cd62a2"
      },
      "execution_count": 8,
      "outputs": [
        {
          "output_type": "execute_result",
          "data": {
            "text/plain": [
              "<tf.Tensor: shape=(2, 2), dtype=int32, numpy=\n",
              "array([[2, 4],\n",
              "       [5, 8]], dtype=int32)>"
            ]
          },
          "metadata": {},
          "execution_count": 8
        }
      ]
    },
    {
      "cell_type": "code",
      "source": [
        "# We see that it's a two dimension tensor, meaning a two dimensional array is like a rectangular shape in space having two dimensions\n",
        "matrix1.ndim"
      ],
      "metadata": {
        "colab": {
          "base_uri": "https://localhost:8080/"
        },
        "id": "IlMZsxSK0GvR",
        "outputId": "71527115-d7ab-4c6f-81fd-d89f7e8254cd"
      },
      "execution_count": 9,
      "outputs": [
        {
          "output_type": "execute_result",
          "data": {
            "text/plain": [
              "2"
            ]
          },
          "metadata": {},
          "execution_count": 9
        }
      ]
    },
    {
      "cell_type": "code",
      "source": [
        "# Create another matrix\n",
        "matrix2 = tf.constant([[2., 3.],\n",
        "                       [4., 5.],\n",
        "                       [6., 7.]], dtype=tf.float16)\n",
        "matrix2"
      ],
      "metadata": {
        "colab": {
          "base_uri": "https://localhost:8080/"
        },
        "id": "zKYW2NCv0KD7",
        "outputId": "f2445e85-e1af-4966-d4c6-5a0dbd7fe4d3"
      },
      "execution_count": 10,
      "outputs": [
        {
          "output_type": "execute_result",
          "data": {
            "text/plain": [
              "<tf.Tensor: shape=(3, 2), dtype=float16, numpy=\n",
              "array([[2., 3.],\n",
              "       [4., 5.],\n",
              "       [6., 7.]], dtype=float16)>"
            ]
          },
          "metadata": {},
          "execution_count": 10
        }
      ]
    },
    {
      "cell_type": "code",
      "source": [
        "# We see that it's a two dimension tensor, meaning a two dimensional array is like a flat rectangle in space having two dimensions\n",
        "matrix2.ndim"
      ],
      "metadata": {
        "colab": {
          "base_uri": "https://localhost:8080/"
        },
        "id": "VanPoQCX1EKE",
        "outputId": "77c168f3-51d2-49ff-c6f9-bcd3b581a0da"
      },
      "execution_count": 11,
      "outputs": [
        {
          "output_type": "execute_result",
          "data": {
            "text/plain": [
              "2"
            ]
          },
          "metadata": {},
          "execution_count": 11
        }
      ]
    },
    {
      "cell_type": "code",
      "source": [
        "# Create a tensor\n",
        "tensor1 = tf.constant([[[1, 2, 3],\n",
        "                       [4, 5, 6]],\n",
        "                      [[7, 8, 9],\n",
        "                       [9, 8, 7]],\n",
        "                      [[6, 5, 4],\n",
        "                       [3, 2, 1]]])\n",
        "tensor1"
      ],
      "metadata": {
        "colab": {
          "base_uri": "https://localhost:8080/"
        },
        "id": "hApB0rQC1IcO",
        "outputId": "759054c4-f7e2-40ed-a4ca-691e4edb3aaa"
      },
      "execution_count": 12,
      "outputs": [
        {
          "output_type": "execute_result",
          "data": {
            "text/plain": [
              "<tf.Tensor: shape=(3, 2, 3), dtype=int32, numpy=\n",
              "array([[[1, 2, 3],\n",
              "        [4, 5, 6]],\n",
              "\n",
              "       [[7, 8, 9],\n",
              "        [9, 8, 7]],\n",
              "\n",
              "       [[6, 5, 4],\n",
              "        [3, 2, 1]]], dtype=int32)>"
            ]
          },
          "metadata": {},
          "execution_count": 12
        }
      ]
    },
    {
      "cell_type": "code",
      "source": [
        "# We see that it's a two dimension tensor, meaning a two dimensional array is like a rectangular shape in space having three dimensions.\n",
        "# It has length (or number of columns) = 3, # width (or number of rows) = 2 and hight (or number of elements with rows and columns) = 3.\n",
        "tensor1.ndim"
      ],
      "metadata": {
        "colab": {
          "base_uri": "https://localhost:8080/"
        },
        "id": "NF-2Hmqm2uEr",
        "outputId": "b1836664-aa53-4fc0-cb7a-092857439c9b"
      },
      "execution_count": 13,
      "outputs": [
        {
          "output_type": "execute_result",
          "data": {
            "text/plain": [
              "3"
            ]
          },
          "metadata": {},
          "execution_count": 13
        }
      ]
    },
    {
      "cell_type": "code",
      "source": [
        "tensor2 = tf.constant([[[1., 2., 3.],\n",
        "                        [4., 5., 6.],\n",
        "                        [7., 8., 9.]],\n",
        "                       [[9., 8., 7.],\n",
        "                        [6., 5., 4.],\n",
        "                        [3., 2., 1.]],\n",
        "                       [[9., 6., 3.],\n",
        "                        [8., 5., 2.],\n",
        "                        [7., 4., 1.]]])\n",
        "tensor2"
      ],
      "metadata": {
        "colab": {
          "base_uri": "https://localhost:8080/"
        },
        "id": "Wotx2WS-3WO1",
        "outputId": "08714a79-d64c-4147-a63f-44ffd2fa65b5"
      },
      "execution_count": 14,
      "outputs": [
        {
          "output_type": "execute_result",
          "data": {
            "text/plain": [
              "<tf.Tensor: shape=(3, 3, 3), dtype=float32, numpy=\n",
              "array([[[1., 2., 3.],\n",
              "        [4., 5., 6.],\n",
              "        [7., 8., 9.]],\n",
              "\n",
              "       [[9., 8., 7.],\n",
              "        [6., 5., 4.],\n",
              "        [3., 2., 1.]],\n",
              "\n",
              "       [[9., 6., 3.],\n",
              "        [8., 5., 2.],\n",
              "        [7., 4., 1.]]], dtype=float32)>"
            ]
          },
          "metadata": {},
          "execution_count": 14
        }
      ]
    },
    {
      "cell_type": "code",
      "source": [
        "# We see that it's a two dimension tensor, meaning a two dimensional array is like a rectangular shape in space having three dimensions.\n",
        "# It has length (or number of columns) = 3, # width (or number of rows) = 3 and hight (or number of elements with rows and columns) = 3.\n",
        "tensor2.ndim"
      ],
      "metadata": {
        "colab": {
          "base_uri": "https://localhost:8080/"
        },
        "id": "ZYIGqa5S4bFq",
        "outputId": "6136a3a1-5d02-48b5-9efc-792e7911c149"
      },
      "execution_count": 15,
      "outputs": [
        {
          "output_type": "execute_result",
          "data": {
            "text/plain": [
              "3"
            ]
          },
          "metadata": {},
          "execution_count": 15
        }
      ]
    },
    {
      "cell_type": "markdown",
      "source": [
        "### Create Tensors from Variables\n",
        "When we create tensors with variables, we can change values of one or more elements of the tensor subsequently."
      ],
      "metadata": {
        "id": "1zkMuYa3KDPo"
      }
    },
    {
      "cell_type": "code",
      "source": [
        "# Let's create a vector similar to the one we created before, but this time using tf.Variable\n",
        "vector1 = tf.Variable([3, 5])\n",
        "vector1"
      ],
      "metadata": {
        "colab": {
          "base_uri": "https://localhost:8080/"
        },
        "id": "kRxfGY2lKJSk",
        "outputId": "011f21f6-73f5-4594-bdff-a1334ef0c241"
      },
      "execution_count": 16,
      "outputs": [
        {
          "output_type": "execute_result",
          "data": {
            "text/plain": [
              "<tf.Variable 'Variable:0' shape=(2,) dtype=int32, numpy=array([3, 5], dtype=int32)>"
            ]
          },
          "metadata": {},
          "execution_count": 16
        }
      ]
    },
    {
      "cell_type": "code",
      "source": [
        "# Change the 2nd element of the vector\n",
        "vector1[1].assign(8)\n",
        "vector1"
      ],
      "metadata": {
        "colab": {
          "base_uri": "https://localhost:8080/"
        },
        "id": "zkhYPpJ1Lmev",
        "outputId": "1af0c0c3-113f-4cb9-c386-a3ffaaa0c82d"
      },
      "execution_count": 18,
      "outputs": [
        {
          "output_type": "execute_result",
          "data": {
            "text/plain": [
              "<tf.Variable 'Variable:0' shape=(2,) dtype=int32, numpy=array([3, 8], dtype=int32)>"
            ]
          },
          "metadata": {},
          "execution_count": 18
        }
      ]
    },
    {
      "cell_type": "markdown",
      "source": [
        "### Create Random Tensors\n",
        "Random tensors are tensors of any given size containing random numbers."
      ],
      "metadata": {
        "id": "t-byjRPOMOhi"
      }
    },
    {
      "cell_type": "code",
      "source": [
        "# Create a random tensor with 3 rows and 2 columns filled with random normally distributed numbers\n",
        "rt_1 = tf.random.Generator.from_seed(42)\n",
        "rt_1 = rt_1.normal(shape=(3, 2))\n",
        "rt_1"
      ],
      "metadata": {
        "colab": {
          "base_uri": "https://localhost:8080/"
        },
        "id": "gpa7ymMBPWcR",
        "outputId": "d08eb6eb-2197-4ca7-b7f8-90e6eb420cd6"
      },
      "execution_count": 21,
      "outputs": [
        {
          "output_type": "execute_result",
          "data": {
            "text/plain": [
              "<tf.Tensor: shape=(3, 2), dtype=float32, numpy=\n",
              "array([[-0.7565803 , -0.06854702],\n",
              "       [ 0.07595026, -1.2573844 ],\n",
              "       [-0.23193763, -1.8107855 ]], dtype=float32)>"
            ]
          },
          "metadata": {},
          "execution_count": 21
        }
      ]
    },
    {
      "cell_type": "code",
      "source": [
        "# Create another random tensor, using same random seed ensures the values of the first 2 columns of all 3 rows of this tensor is the same to\n",
        "# the other tensor we created above inspite of using random numbers to fill the values.\n",
        "rt_2 = tf.random.Generator.from_seed(42)\n",
        "rt_2 = rt_2.normal(shape= (3, 3))\n",
        "rt_2"
      ],
      "metadata": {
        "colab": {
          "base_uri": "https://localhost:8080/"
        },
        "id": "lmP7g2-lP9cQ",
        "outputId": "1b21ebd7-ea4c-496d-d1c2-86550aa91474"
      },
      "execution_count": 22,
      "outputs": [
        {
          "output_type": "execute_result",
          "data": {
            "text/plain": [
              "<tf.Tensor: shape=(3, 3), dtype=float32, numpy=\n",
              "array([[-0.7565803 , -0.06854702,  0.07595026],\n",
              "       [-1.2573844 , -0.23193763, -1.8107855 ],\n",
              "       [ 0.09988727, -0.50998646, -0.7535805 ]], dtype=float32)>"
            ]
          },
          "metadata": {},
          "execution_count": 22
        }
      ]
    },
    {
      "cell_type": "code",
      "source": [],
      "metadata": {
        "id": "r2DgVL_MRu9V"
      },
      "execution_count": null,
      "outputs": []
    }
  ]
}