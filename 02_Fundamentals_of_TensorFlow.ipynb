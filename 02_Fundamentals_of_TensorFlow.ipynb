{
  "nbformat": 4,
  "nbformat_minor": 0,
  "metadata": {
    "colab": {
      "provenance": [],
      "gpuType": "T4",
      "authorship_tag": "ABX9TyOaIklUVNI77PdYa1u0mTX5",
      "include_colab_link": true
    },
    "kernelspec": {
      "name": "python3",
      "display_name": "Python 3"
    },
    "language_info": {
      "name": "python"
    },
    "accelerator": "GPU"
  },
  "cells": [
    {
      "cell_type": "markdown",
      "metadata": {
        "id": "view-in-github",
        "colab_type": "text"
      },
      "source": [
        "<a href=\"https://colab.research.google.com/github/GoAshim/Deep-Learning-with-TensorFlow/blob/main/02_Fundamentals_of_TensorFlow.ipynb\" target=\"_parent\"><img src=\"https://colab.research.google.com/assets/colab-badge.svg\" alt=\"Open In Colab\"/></a>"
      ]
    },
    {
      "cell_type": "markdown",
      "source": [
        "## Fundamentals of TensorFlow\n",
        "In this workbook we will not do any project, rather we will work on the fundamental concepts of Tensors using TensorFlow, which is going to help us when we do various Deep Learning projects using Neural Network in TensorFlow in the future workbooks.\n",
        "\n",
        "We will cover the following concepts in this workbook -\n",
        "* Introduction to tensors\n",
        "* Getting information from tensors\n",
        "* Updating / changing tensors\n",
        "* Comparing tensor & numpy\n",
        "* Using GPU with TensorFlow"
      ],
      "metadata": {
        "id": "2EEGOOoFlGhw"
      }
    },
    {
      "cell_type": "markdown",
      "source": [
        "### Introduction to tensors\n",
        "In this section we will explore different ways of creating tensors."
      ],
      "metadata": {
        "id": "eB9jWD8trPjh"
      }
    },
    {
      "cell_type": "code",
      "source": [
        "# Import library\n",
        "import numpy as np\n",
        "import tensorflow as tf"
      ],
      "metadata": {
        "id": "S6wg-mwdrWj7"
      },
      "execution_count": 1,
      "outputs": []
    },
    {
      "cell_type": "code",
      "source": [
        "# Check the current version (as of Feb 3, 2024) of tensorflow\n",
        "ver = tf.__version__\n",
        "print(ver)"
      ],
      "metadata": {
        "colab": {
          "base_uri": "https://localhost:8080/"
        },
        "id": "8e03XhBwrnep",
        "outputId": "c185fc2b-87dc-41da-86d3-e91ca34f4cc1"
      },
      "execution_count": 2,
      "outputs": [
        {
          "output_type": "stream",
          "name": "stdout",
          "text": [
            "2.15.0\n"
          ]
        }
      ]
    },
    {
      "cell_type": "markdown",
      "source": [
        "#### Create Tensors from Constants `tf.constant()`"
      ],
      "metadata": {
        "id": "BiaQ0LLEsDob"
      }
    },
    {
      "cell_type": "code",
      "source": [
        "# Create a single value (scalar) constant tensor with value as numpy integer\n",
        "scalar = tf.constant(3)\n",
        "scalar"
      ],
      "metadata": {
        "colab": {
          "base_uri": "https://localhost:8080/"
        },
        "id": "gkiJRp9_vVmO",
        "outputId": "eb53b00b-107e-488f-c864-b607edb93e87"
      },
      "execution_count": 3,
      "outputs": [
        {
          "output_type": "execute_result",
          "data": {
            "text/plain": [
              "<tf.Tensor: shape=(), dtype=int32, numpy=3>"
            ]
          },
          "metadata": {},
          "execution_count": 3
        }
      ]
    },
    {
      "cell_type": "code",
      "source": [
        "# We see that it's a zero dimension tensor, meaning one constant value is like a point in space having zero dimension\n",
        "scalar.ndim"
      ],
      "metadata": {
        "colab": {
          "base_uri": "https://localhost:8080/"
        },
        "id": "oMvp9lVyvs0q",
        "outputId": "56bebb29-2945-4d90-895a-28d3b1d72fd9"
      },
      "execution_count": 4,
      "outputs": [
        {
          "output_type": "execute_result",
          "data": {
            "text/plain": [
              "0"
            ]
          },
          "metadata": {},
          "execution_count": 4
        }
      ]
    },
    {
      "cell_type": "code",
      "source": [
        "# Create a vector\n",
        "vector = tf.constant([3, 5])\n",
        "vector"
      ],
      "metadata": {
        "colab": {
          "base_uri": "https://localhost:8080/"
        },
        "id": "Bs8JVqsrw1St",
        "outputId": "5d1695c7-b66b-47a2-c10a-7990155d4e5f"
      },
      "execution_count": 5,
      "outputs": [
        {
          "output_type": "execute_result",
          "data": {
            "text/plain": [
              "<tf.Tensor: shape=(2,), dtype=int32, numpy=array([3, 5], dtype=int32)>"
            ]
          },
          "metadata": {},
          "execution_count": 5
        }
      ]
    },
    {
      "cell_type": "code",
      "source": [
        "# We see that it's a one dimension tensor, meaning an array is like a line in space having one dimension\n",
        "vector.ndim"
      ],
      "metadata": {
        "colab": {
          "base_uri": "https://localhost:8080/"
        },
        "id": "8kd13WrIx5wb",
        "outputId": "24776b15-ce3b-4ae1-aeb9-6194356c1189"
      },
      "execution_count": 6,
      "outputs": [
        {
          "output_type": "execute_result",
          "data": {
            "text/plain": [
              "1"
            ]
          },
          "metadata": {},
          "execution_count": 6
        }
      ]
    },
    {
      "cell_type": "code",
      "source": [
        "# Create a matrix\n",
        "matrix1 = tf.constant([[2, 4],\n",
        "                       [5, 8]])\n",
        "matrix1"
      ],
      "metadata": {
        "colab": {
          "base_uri": "https://localhost:8080/"
        },
        "id": "2wXpZ6cfySUU",
        "outputId": "661cfd43-ef7b-40ce-a87b-ad80c01d057d"
      },
      "execution_count": 7,
      "outputs": [
        {
          "output_type": "execute_result",
          "data": {
            "text/plain": [
              "<tf.Tensor: shape=(2, 2), dtype=int32, numpy=\n",
              "array([[2, 4],\n",
              "       [5, 8]], dtype=int32)>"
            ]
          },
          "metadata": {},
          "execution_count": 7
        }
      ]
    },
    {
      "cell_type": "code",
      "source": [
        "# We see that it's a two dimension tensor, meaning a two dimensional array is like a rectangular shape in space having two dimensions\n",
        "matrix1.ndim"
      ],
      "metadata": {
        "colab": {
          "base_uri": "https://localhost:8080/"
        },
        "id": "IlMZsxSK0GvR",
        "outputId": "eb8515be-f9b9-4494-a024-f4f5f60cf195"
      },
      "execution_count": 8,
      "outputs": [
        {
          "output_type": "execute_result",
          "data": {
            "text/plain": [
              "2"
            ]
          },
          "metadata": {},
          "execution_count": 8
        }
      ]
    },
    {
      "cell_type": "code",
      "source": [
        "# Create another matrix\n",
        "matrix2 = tf.constant([[2., 3.],\n",
        "                       [4., 5.],\n",
        "                       [6., 7.]], dtype=tf.float16)\n",
        "matrix2"
      ],
      "metadata": {
        "colab": {
          "base_uri": "https://localhost:8080/"
        },
        "id": "zKYW2NCv0KD7",
        "outputId": "7210f933-14c3-40e2-f5af-bbd068fad3e4"
      },
      "execution_count": 9,
      "outputs": [
        {
          "output_type": "execute_result",
          "data": {
            "text/plain": [
              "<tf.Tensor: shape=(3, 2), dtype=float16, numpy=\n",
              "array([[2., 3.],\n",
              "       [4., 5.],\n",
              "       [6., 7.]], dtype=float16)>"
            ]
          },
          "metadata": {},
          "execution_count": 9
        }
      ]
    },
    {
      "cell_type": "code",
      "source": [
        "# We see that it's a two dimension tensor, meaning a two dimensional array is like a flat rectangle in space having two dimensions\n",
        "matrix2.ndim"
      ],
      "metadata": {
        "colab": {
          "base_uri": "https://localhost:8080/"
        },
        "id": "VanPoQCX1EKE",
        "outputId": "c3a276ea-858d-4742-b2bc-ff97a925e0c5"
      },
      "execution_count": 10,
      "outputs": [
        {
          "output_type": "execute_result",
          "data": {
            "text/plain": [
              "2"
            ]
          },
          "metadata": {},
          "execution_count": 10
        }
      ]
    },
    {
      "cell_type": "code",
      "source": [
        "# Create a tensor\n",
        "tensor1 = tf.constant([[[1, 2, 3],\n",
        "                       [4, 5, 6]],\n",
        "                      [[7, 8, 9],\n",
        "                       [9, 8, 7]],\n",
        "                      [[6, 5, 4],\n",
        "                       [3, 2, 1]]])\n",
        "tensor1"
      ],
      "metadata": {
        "colab": {
          "base_uri": "https://localhost:8080/"
        },
        "id": "hApB0rQC1IcO",
        "outputId": "163bcf25-f1d0-410d-d48a-ebd396b20e1e"
      },
      "execution_count": 11,
      "outputs": [
        {
          "output_type": "execute_result",
          "data": {
            "text/plain": [
              "<tf.Tensor: shape=(3, 2, 3), dtype=int32, numpy=\n",
              "array([[[1, 2, 3],\n",
              "        [4, 5, 6]],\n",
              "\n",
              "       [[7, 8, 9],\n",
              "        [9, 8, 7]],\n",
              "\n",
              "       [[6, 5, 4],\n",
              "        [3, 2, 1]]], dtype=int32)>"
            ]
          },
          "metadata": {},
          "execution_count": 11
        }
      ]
    },
    {
      "cell_type": "code",
      "source": [
        "# We see that it's a two dimension tensor, meaning a two dimensional array is like a rectangular shape in space having three dimensions.\n",
        "# It has length (or number of columns) = 3, # width (or number of rows) = 2 and hight (or number of elements with rows and columns) = 3.\n",
        "tensor1.ndim"
      ],
      "metadata": {
        "colab": {
          "base_uri": "https://localhost:8080/"
        },
        "id": "NF-2Hmqm2uEr",
        "outputId": "3ca012a0-681f-41d8-8626-41991271f7a4"
      },
      "execution_count": 12,
      "outputs": [
        {
          "output_type": "execute_result",
          "data": {
            "text/plain": [
              "3"
            ]
          },
          "metadata": {},
          "execution_count": 12
        }
      ]
    },
    {
      "cell_type": "code",
      "source": [
        "tensor2 = tf.constant([[[1., 2., 3.],\n",
        "                        [4., 5., 6.],\n",
        "                        [7., 8., 9.]],\n",
        "                       [[9., 8., 7.],\n",
        "                        [6., 5., 4.],\n",
        "                        [3., 2., 1.]],\n",
        "                       [[9., 6., 3.],\n",
        "                        [8., 5., 2.],\n",
        "                        [7., 4., 1.]]])\n",
        "tensor2"
      ],
      "metadata": {
        "colab": {
          "base_uri": "https://localhost:8080/"
        },
        "id": "Wotx2WS-3WO1",
        "outputId": "da48bc83-3c91-40d9-cadf-f51ff37134e1"
      },
      "execution_count": 13,
      "outputs": [
        {
          "output_type": "execute_result",
          "data": {
            "text/plain": [
              "<tf.Tensor: shape=(3, 3, 3), dtype=float32, numpy=\n",
              "array([[[1., 2., 3.],\n",
              "        [4., 5., 6.],\n",
              "        [7., 8., 9.]],\n",
              "\n",
              "       [[9., 8., 7.],\n",
              "        [6., 5., 4.],\n",
              "        [3., 2., 1.]],\n",
              "\n",
              "       [[9., 6., 3.],\n",
              "        [8., 5., 2.],\n",
              "        [7., 4., 1.]]], dtype=float32)>"
            ]
          },
          "metadata": {},
          "execution_count": 13
        }
      ]
    },
    {
      "cell_type": "code",
      "source": [
        "# We see that it's a two dimension tensor, meaning a two dimensional array is like a rectangular shape in space having three dimensions.\n",
        "# It has length (or number of columns) = 3, # width (or number of rows) = 3 and hight (or number of elements with rows and columns) = 3.\n",
        "tensor2.ndim"
      ],
      "metadata": {
        "colab": {
          "base_uri": "https://localhost:8080/"
        },
        "id": "ZYIGqa5S4bFq",
        "outputId": "b41ba368-3d9d-48c6-ef13-c8137a040110"
      },
      "execution_count": 14,
      "outputs": [
        {
          "output_type": "execute_result",
          "data": {
            "text/plain": [
              "3"
            ]
          },
          "metadata": {},
          "execution_count": 14
        }
      ]
    },
    {
      "cell_type": "markdown",
      "source": [
        "#### Create Tensors from Variables\n",
        "When we create tensors with variables, we can change values of one or more elements of the tensor subsequently."
      ],
      "metadata": {
        "id": "1zkMuYa3KDPo"
      }
    },
    {
      "cell_type": "code",
      "source": [
        "# Let's create a vector similar to the one we created before, but this time using tf.Variable\n",
        "vector1 = tf.Variable([3, 5])\n",
        "vector1"
      ],
      "metadata": {
        "colab": {
          "base_uri": "https://localhost:8080/"
        },
        "id": "kRxfGY2lKJSk",
        "outputId": "29460fcd-2251-4025-b1cf-c3eea9011d69"
      },
      "execution_count": 15,
      "outputs": [
        {
          "output_type": "execute_result",
          "data": {
            "text/plain": [
              "<tf.Variable 'Variable:0' shape=(2,) dtype=int32, numpy=array([3, 5], dtype=int32)>"
            ]
          },
          "metadata": {},
          "execution_count": 15
        }
      ]
    },
    {
      "cell_type": "code",
      "source": [
        "# Change the 2nd element of the vector\n",
        "vector1[1].assign(8)\n",
        "vector1"
      ],
      "metadata": {
        "colab": {
          "base_uri": "https://localhost:8080/"
        },
        "id": "zkhYPpJ1Lmev",
        "outputId": "cc6ae997-d3de-43e0-a74a-ddac417c8196"
      },
      "execution_count": 16,
      "outputs": [
        {
          "output_type": "execute_result",
          "data": {
            "text/plain": [
              "<tf.Variable 'Variable:0' shape=(2,) dtype=int32, numpy=array([3, 8], dtype=int32)>"
            ]
          },
          "metadata": {},
          "execution_count": 16
        }
      ]
    },
    {
      "cell_type": "markdown",
      "source": [
        "#### Create Random Tensors\n",
        "Random tensors are tensors of any given size containing random numbers."
      ],
      "metadata": {
        "id": "t-byjRPOMOhi"
      }
    },
    {
      "cell_type": "code",
      "source": [
        "# Create a random tensor with 3 rows and 2 columns filled with random normally distributed numbers\n",
        "rt_1 = tf.random.Generator.from_seed(42)\n",
        "rt_1 = rt_1.normal(shape=(3, 2))\n",
        "rt_1"
      ],
      "metadata": {
        "colab": {
          "base_uri": "https://localhost:8080/"
        },
        "id": "gpa7ymMBPWcR",
        "outputId": "0f1ab92c-8c9b-4d8f-9e09-d64e68922114"
      },
      "execution_count": 17,
      "outputs": [
        {
          "output_type": "execute_result",
          "data": {
            "text/plain": [
              "<tf.Tensor: shape=(3, 2), dtype=float32, numpy=\n",
              "array([[-0.7565803 , -0.06854702],\n",
              "       [ 0.07595026, -1.2573844 ],\n",
              "       [-0.23193765, -1.8107855 ]], dtype=float32)>"
            ]
          },
          "metadata": {},
          "execution_count": 17
        }
      ]
    },
    {
      "cell_type": "code",
      "source": [
        "# Create another random tensor, using same random seed ensures the values of the first 2 columns of all 3 rows of this tensor is the same to\n",
        "# the other tensor we created above inspite of using random numbers to fill the values.\n",
        "rt_2 = tf.random.Generator.from_seed(42)\n",
        "rt_2 = rt_2.normal(shape= (3, 3))\n",
        "rt_2"
      ],
      "metadata": {
        "colab": {
          "base_uri": "https://localhost:8080/"
        },
        "id": "lmP7g2-lP9cQ",
        "outputId": "1c134c71-e60c-444e-c84c-9292632185e8"
      },
      "execution_count": 18,
      "outputs": [
        {
          "output_type": "execute_result",
          "data": {
            "text/plain": [
              "<tf.Tensor: shape=(3, 3), dtype=float32, numpy=\n",
              "array([[-0.7565803 , -0.06854702,  0.07595026],\n",
              "       [-1.2573844 , -0.23193765, -1.8107855 ],\n",
              "       [ 0.09988727, -0.50998646, -0.7535806 ]], dtype=float32)>"
            ]
          },
          "metadata": {},
          "execution_count": 18
        }
      ]
    },
    {
      "cell_type": "markdown",
      "source": [
        "#### Shuffle the order of elements in a tensor"
      ],
      "metadata": {
        "id": "r2DgVL_MRu9V"
      }
    },
    {
      "cell_type": "code",
      "source": [
        "# Here the second tensor is a randomly shuffled copy of the first tensor.\n",
        "# The random shuffle operates on the first dimension, which is the 3 rows as found in shape(3, 2).\n",
        "# However the shuffle occurs every time we run the code\n",
        "matrix3 = tf.constant([[1, 2],\n",
        "                       [3, 4],\n",
        "                       [5, 6]])\n",
        "matrix4 = tf.random.shuffle(matrix3)\n",
        "matrix4"
      ],
      "metadata": {
        "colab": {
          "base_uri": "https://localhost:8080/"
        },
        "id": "7mMJoWvFXjkf",
        "outputId": "096161d8-4a90-4be9-9320-a32e28a8ad27"
      },
      "execution_count": 19,
      "outputs": [
        {
          "output_type": "execute_result",
          "data": {
            "text/plain": [
              "<tf.Tensor: shape=(3, 2), dtype=int32, numpy=\n",
              "array([[3, 4],\n",
              "       [5, 6],\n",
              "       [1, 2]], dtype=int32)>"
            ]
          },
          "metadata": {},
          "execution_count": 19
        }
      ]
    },
    {
      "cell_type": "code",
      "source": [
        "# Here we create another tensor by suffling the same original tensor. The values get shuffled in the output tensor\n",
        "# However unlike the above example here the values of the output tensor remains same regardless of how many times we run the code.\n",
        "# This happens because of setting the random seed to ensure reproducability.\n",
        "tf.random.set_seed(42)\n",
        "matrix5 = tf.random.shuffle(matrix3)\n",
        "matrix5"
      ],
      "metadata": {
        "colab": {
          "base_uri": "https://localhost:8080/"
        },
        "id": "gn8qmRHyXg2J",
        "outputId": "73c7b0d4-cd8f-4469-f260-fb1508adcca2"
      },
      "execution_count": 20,
      "outputs": [
        {
          "output_type": "execute_result",
          "data": {
            "text/plain": [
              "<tf.Tensor: shape=(3, 2), dtype=int32, numpy=\n",
              "array([[3, 4],\n",
              "       [5, 6],\n",
              "       [1, 2]], dtype=int32)>"
            ]
          },
          "metadata": {},
          "execution_count": 20
        }
      ]
    },
    {
      "cell_type": "markdown",
      "source": [
        "### Getting information from tensors\n",
        "In this section we will find out different features or attributes of tensors, such as -\n",
        "* Rank\n",
        "* Shape\n",
        "* Size\n",
        "* Dimensions"
      ],
      "metadata": {
        "id": "7xj73dxAcpjz"
      }
    },
    {
      "cell_type": "code",
      "source": [
        "# First lets create a 4 dimensional tensor with 1s\n",
        "t1 = tf.ones(shape=(2, 3, 4, 5))\n",
        "t1"
      ],
      "metadata": {
        "colab": {
          "base_uri": "https://localhost:8080/"
        },
        "id": "udkVnSngc6S3",
        "outputId": "bf308999-1ecc-48e4-eaf4-eeae117caade"
      },
      "execution_count": 21,
      "outputs": [
        {
          "output_type": "execute_result",
          "data": {
            "text/plain": [
              "<tf.Tensor: shape=(2, 3, 4, 5), dtype=float32, numpy=\n",
              "array([[[[1., 1., 1., 1., 1.],\n",
              "         [1., 1., 1., 1., 1.],\n",
              "         [1., 1., 1., 1., 1.],\n",
              "         [1., 1., 1., 1., 1.]],\n",
              "\n",
              "        [[1., 1., 1., 1., 1.],\n",
              "         [1., 1., 1., 1., 1.],\n",
              "         [1., 1., 1., 1., 1.],\n",
              "         [1., 1., 1., 1., 1.]],\n",
              "\n",
              "        [[1., 1., 1., 1., 1.],\n",
              "         [1., 1., 1., 1., 1.],\n",
              "         [1., 1., 1., 1., 1.],\n",
              "         [1., 1., 1., 1., 1.]]],\n",
              "\n",
              "\n",
              "       [[[1., 1., 1., 1., 1.],\n",
              "         [1., 1., 1., 1., 1.],\n",
              "         [1., 1., 1., 1., 1.],\n",
              "         [1., 1., 1., 1., 1.]],\n",
              "\n",
              "        [[1., 1., 1., 1., 1.],\n",
              "         [1., 1., 1., 1., 1.],\n",
              "         [1., 1., 1., 1., 1.],\n",
              "         [1., 1., 1., 1., 1.]],\n",
              "\n",
              "        [[1., 1., 1., 1., 1.],\n",
              "         [1., 1., 1., 1., 1.],\n",
              "         [1., 1., 1., 1., 1.],\n",
              "         [1., 1., 1., 1., 1.]]]], dtype=float32)>"
            ]
          },
          "metadata": {},
          "execution_count": 21
        }
      ]
    },
    {
      "cell_type": "code",
      "source": [
        "# Rank of the tensor, or identify a given element in the tensor\n",
        "t1[1,1,1]"
      ],
      "metadata": {
        "colab": {
          "base_uri": "https://localhost:8080/"
        },
        "id": "wBVhhXRfflsx",
        "outputId": "6b3ed98e-301f-4886-d02c-2bf199942b70"
      },
      "execution_count": 22,
      "outputs": [
        {
          "output_type": "execute_result",
          "data": {
            "text/plain": [
              "<tf.Tensor: shape=(5,), dtype=float32, numpy=array([1., 1., 1., 1., 1.], dtype=float32)>"
            ]
          },
          "metadata": {},
          "execution_count": 22
        }
      ]
    },
    {
      "cell_type": "code",
      "source": [
        "# Shape of the tensor\n",
        "t1.shape"
      ],
      "metadata": {
        "colab": {
          "base_uri": "https://localhost:8080/"
        },
        "id": "MYdHh65feK3p",
        "outputId": "9bd0e2c9-899e-4099-800a-6ceb04360a76"
      },
      "execution_count": 23,
      "outputs": [
        {
          "output_type": "execute_result",
          "data": {
            "text/plain": [
              "TensorShape([2, 3, 4, 5])"
            ]
          },
          "metadata": {},
          "execution_count": 23
        }
      ]
    },
    {
      "cell_type": "code",
      "source": [
        "# Size of the tensor\n",
        "size = tf.size(t1).numpy()\n",
        "size"
      ],
      "metadata": {
        "colab": {
          "base_uri": "https://localhost:8080/"
        },
        "id": "mKMi_qPTgcCt",
        "outputId": "3d32a092-d679-4a95-ffcd-98b9eaefad50"
      },
      "execution_count": 24,
      "outputs": [
        {
          "output_type": "execute_result",
          "data": {
            "text/plain": [
              "120"
            ]
          },
          "metadata": {},
          "execution_count": 24
        }
      ]
    },
    {
      "cell_type": "code",
      "source": [
        "# Dimension of tensor\n",
        "dim = t1.ndim\n",
        "dim"
      ],
      "metadata": {
        "colab": {
          "base_uri": "https://localhost:8080/"
        },
        "id": "9ySm6tvIgtlV",
        "outputId": "8b145aed-93c0-4caf-8ed0-b7021f721020"
      },
      "execution_count": 25,
      "outputs": [
        {
          "output_type": "execute_result",
          "data": {
            "text/plain": [
              "4"
            ]
          },
          "metadata": {},
          "execution_count": 25
        }
      ]
    },
    {
      "cell_type": "code",
      "source": [
        "# Find the first element of the first dimention of the tensor, the result is a 3 dimentional tensor\n",
        "t1[1]"
      ],
      "metadata": {
        "colab": {
          "base_uri": "https://localhost:8080/"
        },
        "id": "TJJAOKqzix3e",
        "outputId": "46b5652d-2f66-411d-ee0e-a0b05ced14d9"
      },
      "execution_count": 26,
      "outputs": [
        {
          "output_type": "execute_result",
          "data": {
            "text/plain": [
              "<tf.Tensor: shape=(3, 4, 5), dtype=float32, numpy=\n",
              "array([[[1., 1., 1., 1., 1.],\n",
              "        [1., 1., 1., 1., 1.],\n",
              "        [1., 1., 1., 1., 1.],\n",
              "        [1., 1., 1., 1., 1.]],\n",
              "\n",
              "       [[1., 1., 1., 1., 1.],\n",
              "        [1., 1., 1., 1., 1.],\n",
              "        [1., 1., 1., 1., 1.],\n",
              "        [1., 1., 1., 1., 1.]],\n",
              "\n",
              "       [[1., 1., 1., 1., 1.],\n",
              "        [1., 1., 1., 1., 1.],\n",
              "        [1., 1., 1., 1., 1.],\n",
              "        [1., 1., 1., 1., 1.]]], dtype=float32)>"
            ]
          },
          "metadata": {},
          "execution_count": 26
        }
      ]
    },
    {
      "cell_type": "code",
      "source": [
        "t1[1, 2]"
      ],
      "metadata": {
        "colab": {
          "base_uri": "https://localhost:8080/"
        },
        "id": "DYD3jdSXkSxz",
        "outputId": "105c081d-1365-4709-9094-bc969db4fb71"
      },
      "execution_count": 27,
      "outputs": [
        {
          "output_type": "execute_result",
          "data": {
            "text/plain": [
              "<tf.Tensor: shape=(4, 5), dtype=float32, numpy=\n",
              "array([[1., 1., 1., 1., 1.],\n",
              "       [1., 1., 1., 1., 1.],\n",
              "       [1., 1., 1., 1., 1.],\n",
              "       [1., 1., 1., 1., 1.]], dtype=float32)>"
            ]
          },
          "metadata": {},
          "execution_count": 27
        }
      ]
    },
    {
      "cell_type": "code",
      "source": [
        "# Find 1 item form 1st, 2 items from 2nd, 3 items from 3rd and 4 items from 4th dimention\n",
        "t1[:1, :2, :3, :4]"
      ],
      "metadata": {
        "colab": {
          "base_uri": "https://localhost:8080/"
        },
        "id": "xYORQ6fck4Ct",
        "outputId": "e1742775-eaad-4cc4-d3dc-a83a330e0302"
      },
      "execution_count": 28,
      "outputs": [
        {
          "output_type": "execute_result",
          "data": {
            "text/plain": [
              "<tf.Tensor: shape=(1, 2, 3, 4), dtype=float32, numpy=\n",
              "array([[[[1., 1., 1., 1.],\n",
              "         [1., 1., 1., 1.],\n",
              "         [1., 1., 1., 1.]],\n",
              "\n",
              "        [[1., 1., 1., 1.],\n",
              "         [1., 1., 1., 1.],\n",
              "         [1., 1., 1., 1.]]]], dtype=float32)>"
            ]
          },
          "metadata": {},
          "execution_count": 28
        }
      ]
    },
    {
      "cell_type": "code",
      "source": [
        "# Find last 2 elements from each dimention\n",
        "t1[:2, :2, :2, :2]"
      ],
      "metadata": {
        "colab": {
          "base_uri": "https://localhost:8080/"
        },
        "id": "HsEmbsYtloz8",
        "outputId": "8d5d0d69-0066-4894-b365-fb32c9b82a81"
      },
      "execution_count": 29,
      "outputs": [
        {
          "output_type": "execute_result",
          "data": {
            "text/plain": [
              "<tf.Tensor: shape=(2, 2, 2, 2), dtype=float32, numpy=\n",
              "array([[[[1., 1.],\n",
              "         [1., 1.]],\n",
              "\n",
              "        [[1., 1.],\n",
              "         [1., 1.]]],\n",
              "\n",
              "\n",
              "       [[[1., 1.],\n",
              "         [1., 1.]],\n",
              "\n",
              "        [[1., 1.],\n",
              "         [1., 1.]]]], dtype=float32)>"
            ]
          },
          "metadata": {},
          "execution_count": 29
        }
      ]
    },
    {
      "cell_type": "markdown",
      "source": [
        "#### Reshaping tensor\n",
        "Here we will change the shape of the tensor."
      ],
      "metadata": {
        "id": "oMp_845eq9QK"
      }
    },
    {
      "cell_type": "code",
      "source": [
        "t1 = tf.constant([[1, 2, 3],\n",
        "                  [4, 5, 6]], dtype=tf.float16)\n",
        "t1, t1.ndim"
      ],
      "metadata": {
        "colab": {
          "base_uri": "https://localhost:8080/"
        },
        "id": "a8ZPJV5GrJ7N",
        "outputId": "e6034737-e44a-4b0c-f52c-371be02df44b"
      },
      "execution_count": 30,
      "outputs": [
        {
          "output_type": "execute_result",
          "data": {
            "text/plain": [
              "(<tf.Tensor: shape=(2, 3), dtype=float16, numpy=\n",
              " array([[1., 2., 3.],\n",
              "        [4., 5., 6.]], dtype=float16)>,\n",
              " 2)"
            ]
          },
          "metadata": {},
          "execution_count": 30
        }
      ]
    },
    {
      "cell_type": "code",
      "source": [
        "t2 = tf.reshape(t1, [3, 2])\n",
        "t2, t2.ndim"
      ],
      "metadata": {
        "colab": {
          "base_uri": "https://localhost:8080/"
        },
        "id": "yYRKRWJIrmxG",
        "outputId": "1dd2427b-148c-4e8b-80e9-eb9bf34a32da"
      },
      "execution_count": 31,
      "outputs": [
        {
          "output_type": "execute_result",
          "data": {
            "text/plain": [
              "(<tf.Tensor: shape=(3, 2), dtype=float16, numpy=\n",
              " array([[1., 2.],\n",
              "        [3., 4.],\n",
              "        [5., 6.]], dtype=float16)>,\n",
              " 2)"
            ]
          },
          "metadata": {},
          "execution_count": 31
        }
      ]
    },
    {
      "cell_type": "code",
      "source": [
        "t3 = tf.reshape(t1, shape=(6))\n",
        "t3, t3.ndim"
      ],
      "metadata": {
        "colab": {
          "base_uri": "https://localhost:8080/"
        },
        "id": "y6PL2K7kuNtA",
        "outputId": "16c00f1c-eaff-4116-b554-89fc4324e98f"
      },
      "execution_count": 32,
      "outputs": [
        {
          "output_type": "execute_result",
          "data": {
            "text/plain": [
              "(<tf.Tensor: shape=(6,), dtype=float16, numpy=array([1., 2., 3., 4., 5., 6.], dtype=float16)>,\n",
              " 1)"
            ]
          },
          "metadata": {},
          "execution_count": 32
        }
      ]
    },
    {
      "cell_type": "code",
      "source": [
        "t4 = tf.transpose(t1)\n",
        "t4, t4.ndim"
      ],
      "metadata": {
        "colab": {
          "base_uri": "https://localhost:8080/"
        },
        "id": "w2qQ54vZsxa7",
        "outputId": "4c8c032a-511a-4bd6-e483-f889aa79a126"
      },
      "execution_count": 33,
      "outputs": [
        {
          "output_type": "execute_result",
          "data": {
            "text/plain": [
              "(<tf.Tensor: shape=(3, 2), dtype=float16, numpy=\n",
              " array([[1., 4.],\n",
              "        [2., 5.],\n",
              "        [3., 6.]], dtype=float16)>,\n",
              " 2)"
            ]
          },
          "metadata": {},
          "execution_count": 33
        }
      ]
    },
    {
      "cell_type": "markdown",
      "source": [
        "From the above two codes we can see the `tf.transpose` is changing the shape of the tensor by flipping the rows and columns. Whereas with `tf.reshape` the new shape is filled based on the sequence of values in the original tensor. And `tf.reshape` allows us to even change dimension of a tensor.\n",
        "### Updating Tensors\n",
        "In this section we will see how to update values in tensor using mathematical operations such as addition, multiplication, etc."
      ],
      "metadata": {
        "id": "Qj6Sbh3Wo3P2"
      }
    },
    {
      "cell_type": "code",
      "source": [
        "# Addition\n",
        "t2 = tf.constant([[3, 4],\n",
        "                  [6, 7]])\n",
        "t2 + 10"
      ],
      "metadata": {
        "colab": {
          "base_uri": "https://localhost:8080/"
        },
        "id": "oda4bUpbpOkz",
        "outputId": "84b92d6b-7e7c-4b0f-9d01-475e2108c711"
      },
      "execution_count": 34,
      "outputs": [
        {
          "output_type": "execute_result",
          "data": {
            "text/plain": [
              "<tf.Tensor: shape=(2, 2), dtype=int32, numpy=\n",
              "array([[13, 14],\n",
              "       [16, 17]], dtype=int32)>"
            ]
          },
          "metadata": {},
          "execution_count": 34
        }
      ]
    },
    {
      "cell_type": "code",
      "source": [
        "# Multiplication using tensorflow's built-in function\n",
        "t3 = tf.multiply(t2, 10)\n",
        "t3"
      ],
      "metadata": {
        "colab": {
          "base_uri": "https://localhost:8080/"
        },
        "id": "Dzh5kLe7pw9P",
        "outputId": "b119651f-939a-496a-b797-46cca7ca110c"
      },
      "execution_count": 35,
      "outputs": [
        {
          "output_type": "execute_result",
          "data": {
            "text/plain": [
              "<tf.Tensor: shape=(2, 2), dtype=int32, numpy=\n",
              "array([[30, 40],\n",
              "       [60, 70]], dtype=int32)>"
            ]
          },
          "metadata": {},
          "execution_count": 35
        }
      ]
    },
    {
      "cell_type": "markdown",
      "source": [
        "#### Matrix Multiplication / Dot Product\n",
        "In this section we will see how to multiply two matrix through few examples by using the following functions -\n",
        "* `tf.matmul()`\n",
        "* `tf.tensordot()`"
      ],
      "metadata": {
        "id": "7ErNzegGuKae"
      }
    },
    {
      "cell_type": "code",
      "source": [
        "# Create 2 tensors of same shape\n",
        "t1 = tf.constant([[2, 3],\n",
        "                  [4, 5]])\n",
        "t2 = tf.constant([[6, 7],\n",
        "                  [8, 9]])\n",
        "t1, t2"
      ],
      "metadata": {
        "colab": {
          "base_uri": "https://localhost:8080/"
        },
        "id": "HtDTOvOuucXk",
        "outputId": "0b2d06b8-f965-4835-a7fe-c709095e156f"
      },
      "execution_count": 36,
      "outputs": [
        {
          "output_type": "execute_result",
          "data": {
            "text/plain": [
              "(<tf.Tensor: shape=(2, 2), dtype=int32, numpy=\n",
              " array([[2, 3],\n",
              "        [4, 5]], dtype=int32)>,\n",
              " <tf.Tensor: shape=(2, 2), dtype=int32, numpy=\n",
              " array([[6, 7],\n",
              "        [8, 9]], dtype=int32)>)"
            ]
          },
          "metadata": {},
          "execution_count": 36
        }
      ]
    },
    {
      "cell_type": "code",
      "source": [
        "# Element Multiplication - where we multiply each element of the first matrix with the corresponding element of the second matrix\n",
        "t3 = t1 * t2\n",
        "t3"
      ],
      "metadata": {
        "colab": {
          "base_uri": "https://localhost:8080/"
        },
        "id": "2noTH8zgu-6X",
        "outputId": "7462fcab-f6dd-4267-c9c8-d070207754db"
      },
      "execution_count": 37,
      "outputs": [
        {
          "output_type": "execute_result",
          "data": {
            "text/plain": [
              "<tf.Tensor: shape=(2, 2), dtype=int32, numpy=\n",
              "array([[12, 21],\n",
              "       [32, 45]], dtype=int32)>"
            ]
          },
          "metadata": {},
          "execution_count": 37
        }
      ]
    },
    {
      "cell_type": "code",
      "source": [
        "# Matrix multiplication\n",
        "t4 = tf.matmul(t1, t2)\n",
        "t4"
      ],
      "metadata": {
        "colab": {
          "base_uri": "https://localhost:8080/"
        },
        "id": "W6hDzyVtvp6G",
        "outputId": "2ab0b42c-f490-4a3f-db25-0c0500eea9bb"
      },
      "execution_count": 38,
      "outputs": [
        {
          "output_type": "execute_result",
          "data": {
            "text/plain": [
              "<tf.Tensor: shape=(2, 2), dtype=int32, numpy=\n",
              "array([[36, 41],\n",
              "       [64, 73]], dtype=int32)>"
            ]
          },
          "metadata": {},
          "execution_count": 38
        }
      ]
    },
    {
      "cell_type": "code",
      "source": [
        "t5 = tf.constant([[1, 2],\n",
        "                  [7, 2],\n",
        "                  [3, 3]])\n",
        "t6 = tf.constant([[3, 5],\n",
        "                  [6, 7],\n",
        "                  [1, 8]])\n",
        "t5, t6"
      ],
      "metadata": {
        "colab": {
          "base_uri": "https://localhost:8080/"
        },
        "id": "Clqu1T5Hv29Z",
        "outputId": "cd1c04e1-c80d-4955-ab01-d4bd78e583cb"
      },
      "execution_count": 39,
      "outputs": [
        {
          "output_type": "execute_result",
          "data": {
            "text/plain": [
              "(<tf.Tensor: shape=(3, 2), dtype=int32, numpy=\n",
              " array([[1, 2],\n",
              "        [7, 2],\n",
              "        [3, 3]], dtype=int32)>,\n",
              " <tf.Tensor: shape=(3, 2), dtype=int32, numpy=\n",
              " array([[3, 5],\n",
              "        [6, 7],\n",
              "        [1, 8]], dtype=int32)>)"
            ]
          },
          "metadata": {},
          "execution_count": 39
        }
      ]
    },
    {
      "cell_type": "code",
      "source": [
        "# Let's try matrix multiplication with these 2 matrix\n",
        "t7 = tf.matmul(t5, t6)\n",
        "t7"
      ],
      "metadata": {
        "colab": {
          "base_uri": "https://localhost:8080/",
          "height": 373
        },
        "id": "pvhdw3FfxaGP",
        "outputId": "58bfecc9-f279-4e9a-bf60-242250f861e3"
      },
      "execution_count": 40,
      "outputs": [
        {
          "output_type": "error",
          "ename": "InvalidArgumentError",
          "evalue": "{{function_node __wrapped__MatMul_device_/job:localhost/replica:0/task:0/device:CPU:0}} Matrix size-incompatible: In[0]: [3,2], In[1]: [3,2] [Op:MatMul] name: ",
          "traceback": [
            "\u001b[0;31m---------------------------------------------------------------------------\u001b[0m",
            "\u001b[0;31mInvalidArgumentError\u001b[0m                      Traceback (most recent call last)",
            "\u001b[0;32m<ipython-input-40-168e161019ee>\u001b[0m in \u001b[0;36m<cell line: 2>\u001b[0;34m()\u001b[0m\n\u001b[1;32m      1\u001b[0m \u001b[0;31m# Let's try matrix multiplication with these 2 matrix\u001b[0m\u001b[0;34m\u001b[0m\u001b[0;34m\u001b[0m\u001b[0m\n\u001b[0;32m----> 2\u001b[0;31m \u001b[0mt7\u001b[0m \u001b[0;34m=\u001b[0m \u001b[0mtf\u001b[0m\u001b[0;34m.\u001b[0m\u001b[0mmatmul\u001b[0m\u001b[0;34m(\u001b[0m\u001b[0mt5\u001b[0m\u001b[0;34m,\u001b[0m \u001b[0mt6\u001b[0m\u001b[0;34m)\u001b[0m\u001b[0;34m\u001b[0m\u001b[0;34m\u001b[0m\u001b[0m\n\u001b[0m\u001b[1;32m      3\u001b[0m \u001b[0mt7\u001b[0m\u001b[0;34m\u001b[0m\u001b[0;34m\u001b[0m\u001b[0m\n",
            "\u001b[0;32m/usr/local/lib/python3.10/dist-packages/tensorflow/python/ops/weak_tensor_ops.py\u001b[0m in \u001b[0;36mwrapper\u001b[0;34m(*args, **kwargs)\u001b[0m\n\u001b[1;32m    140\u001b[0m   \u001b[0;32mdef\u001b[0m \u001b[0mwrapper\u001b[0m\u001b[0;34m(\u001b[0m\u001b[0;34m*\u001b[0m\u001b[0margs\u001b[0m\u001b[0;34m,\u001b[0m \u001b[0;34m**\u001b[0m\u001b[0mkwargs\u001b[0m\u001b[0;34m)\u001b[0m\u001b[0;34m:\u001b[0m\u001b[0;34m\u001b[0m\u001b[0;34m\u001b[0m\u001b[0m\n\u001b[1;32m    141\u001b[0m     \u001b[0;32mif\u001b[0m \u001b[0;32mnot\u001b[0m \u001b[0mops\u001b[0m\u001b[0;34m.\u001b[0m\u001b[0mis_auto_dtype_conversion_enabled\u001b[0m\u001b[0;34m(\u001b[0m\u001b[0;34m)\u001b[0m\u001b[0;34m:\u001b[0m\u001b[0;34m\u001b[0m\u001b[0;34m\u001b[0m\u001b[0m\n\u001b[0;32m--> 142\u001b[0;31m       \u001b[0;32mreturn\u001b[0m \u001b[0mop\u001b[0m\u001b[0;34m(\u001b[0m\u001b[0;34m*\u001b[0m\u001b[0margs\u001b[0m\u001b[0;34m,\u001b[0m \u001b[0;34m**\u001b[0m\u001b[0mkwargs\u001b[0m\u001b[0;34m)\u001b[0m\u001b[0;34m\u001b[0m\u001b[0;34m\u001b[0m\u001b[0m\n\u001b[0m\u001b[1;32m    143\u001b[0m     \u001b[0mbound_arguments\u001b[0m \u001b[0;34m=\u001b[0m \u001b[0msignature\u001b[0m\u001b[0;34m.\u001b[0m\u001b[0mbind\u001b[0m\u001b[0;34m(\u001b[0m\u001b[0;34m*\u001b[0m\u001b[0margs\u001b[0m\u001b[0;34m,\u001b[0m \u001b[0;34m**\u001b[0m\u001b[0mkwargs\u001b[0m\u001b[0;34m)\u001b[0m\u001b[0;34m\u001b[0m\u001b[0;34m\u001b[0m\u001b[0m\n\u001b[1;32m    144\u001b[0m     \u001b[0mbound_arguments\u001b[0m\u001b[0;34m.\u001b[0m\u001b[0mapply_defaults\u001b[0m\u001b[0;34m(\u001b[0m\u001b[0;34m)\u001b[0m\u001b[0;34m\u001b[0m\u001b[0;34m\u001b[0m\u001b[0m\n",
            "\u001b[0;32m/usr/local/lib/python3.10/dist-packages/tensorflow/python/util/traceback_utils.py\u001b[0m in \u001b[0;36merror_handler\u001b[0;34m(*args, **kwargs)\u001b[0m\n\u001b[1;32m    151\u001b[0m     \u001b[0;32mexcept\u001b[0m \u001b[0mException\u001b[0m \u001b[0;32mas\u001b[0m \u001b[0me\u001b[0m\u001b[0;34m:\u001b[0m\u001b[0;34m\u001b[0m\u001b[0;34m\u001b[0m\u001b[0m\n\u001b[1;32m    152\u001b[0m       \u001b[0mfiltered_tb\u001b[0m \u001b[0;34m=\u001b[0m \u001b[0m_process_traceback_frames\u001b[0m\u001b[0;34m(\u001b[0m\u001b[0me\u001b[0m\u001b[0;34m.\u001b[0m\u001b[0m__traceback__\u001b[0m\u001b[0;34m)\u001b[0m\u001b[0;34m\u001b[0m\u001b[0;34m\u001b[0m\u001b[0m\n\u001b[0;32m--> 153\u001b[0;31m       \u001b[0;32mraise\u001b[0m \u001b[0me\u001b[0m\u001b[0;34m.\u001b[0m\u001b[0mwith_traceback\u001b[0m\u001b[0;34m(\u001b[0m\u001b[0mfiltered_tb\u001b[0m\u001b[0;34m)\u001b[0m \u001b[0;32mfrom\u001b[0m \u001b[0;32mNone\u001b[0m\u001b[0;34m\u001b[0m\u001b[0;34m\u001b[0m\u001b[0m\n\u001b[0m\u001b[1;32m    154\u001b[0m     \u001b[0;32mfinally\u001b[0m\u001b[0;34m:\u001b[0m\u001b[0;34m\u001b[0m\u001b[0;34m\u001b[0m\u001b[0m\n\u001b[1;32m    155\u001b[0m       \u001b[0;32mdel\u001b[0m \u001b[0mfiltered_tb\u001b[0m\u001b[0;34m\u001b[0m\u001b[0;34m\u001b[0m\u001b[0m\n",
            "\u001b[0;32m/usr/local/lib/python3.10/dist-packages/tensorflow/python/framework/ops.py\u001b[0m in \u001b[0;36mraise_from_not_ok_status\u001b[0;34m(e, name)\u001b[0m\n\u001b[1;32m   5881\u001b[0m \u001b[0;32mdef\u001b[0m \u001b[0mraise_from_not_ok_status\u001b[0m\u001b[0;34m(\u001b[0m\u001b[0me\u001b[0m\u001b[0;34m,\u001b[0m \u001b[0mname\u001b[0m\u001b[0;34m)\u001b[0m \u001b[0;34m->\u001b[0m \u001b[0mNoReturn\u001b[0m\u001b[0;34m:\u001b[0m\u001b[0;34m\u001b[0m\u001b[0;34m\u001b[0m\u001b[0m\n\u001b[1;32m   5882\u001b[0m   \u001b[0me\u001b[0m\u001b[0;34m.\u001b[0m\u001b[0mmessage\u001b[0m \u001b[0;34m+=\u001b[0m \u001b[0;34m(\u001b[0m\u001b[0;34m\" name: \"\u001b[0m \u001b[0;34m+\u001b[0m \u001b[0mstr\u001b[0m\u001b[0;34m(\u001b[0m\u001b[0mname\u001b[0m \u001b[0;32mif\u001b[0m \u001b[0mname\u001b[0m \u001b[0;32mis\u001b[0m \u001b[0;32mnot\u001b[0m \u001b[0;32mNone\u001b[0m \u001b[0;32melse\u001b[0m \u001b[0;34m\"\"\u001b[0m\u001b[0;34m)\u001b[0m\u001b[0;34m)\u001b[0m\u001b[0;34m\u001b[0m\u001b[0;34m\u001b[0m\u001b[0m\n\u001b[0;32m-> 5883\u001b[0;31m   \u001b[0;32mraise\u001b[0m \u001b[0mcore\u001b[0m\u001b[0;34m.\u001b[0m\u001b[0m_status_to_exception\u001b[0m\u001b[0;34m(\u001b[0m\u001b[0me\u001b[0m\u001b[0;34m)\u001b[0m \u001b[0;32mfrom\u001b[0m \u001b[0;32mNone\u001b[0m  \u001b[0;31m# pylint: disable=protected-access\u001b[0m\u001b[0;34m\u001b[0m\u001b[0;34m\u001b[0m\u001b[0m\n\u001b[0m\u001b[1;32m   5884\u001b[0m \u001b[0;34m\u001b[0m\u001b[0m\n\u001b[1;32m   5885\u001b[0m \u001b[0;34m\u001b[0m\u001b[0m\n",
            "\u001b[0;31mInvalidArgumentError\u001b[0m: {{function_node __wrapped__MatMul_device_/job:localhost/replica:0/task:0/device:CPU:0}} Matrix size-incompatible: In[0]: [3,2], In[1]: [3,2] [Op:MatMul] name: "
          ]
        }
      ]
    },
    {
      "cell_type": "code",
      "source": [
        "# The above operation throws error saying 'Matrix size-incompatible'. So let's reshape the first matrix\n",
        "t5 = tf.constant([[1, 2, 5],\n",
        "                  [7, 2, 1],\n",
        "                  [3, 3, 3]])\n",
        "t5, t6"
      ],
      "metadata": {
        "colab": {
          "base_uri": "https://localhost:8080/"
        },
        "id": "Hb2qbCdGxvFv",
        "outputId": "582494e6-a788-414b-df98-72efa7a42ba2"
      },
      "execution_count": 41,
      "outputs": [
        {
          "output_type": "execute_result",
          "data": {
            "text/plain": [
              "(<tf.Tensor: shape=(3, 3), dtype=int32, numpy=\n",
              " array([[1, 2, 5],\n",
              "        [7, 2, 1],\n",
              "        [3, 3, 3]], dtype=int32)>,\n",
              " <tf.Tensor: shape=(3, 2), dtype=int32, numpy=\n",
              " array([[3, 5],\n",
              "        [6, 7],\n",
              "        [1, 8]], dtype=int32)>)"
            ]
          },
          "metadata": {},
          "execution_count": 41
        }
      ]
    },
    {
      "cell_type": "code",
      "source": [
        "# Now let's try the same matrix multiplication again\n",
        "t7 = tf.matmul(t5, t6)\n",
        "t7"
      ],
      "metadata": {
        "colab": {
          "base_uri": "https://localhost:8080/"
        },
        "id": "l7Y82XJLyNVP",
        "outputId": "fd19470d-acc7-4287-dc8d-9c2feffe4c21"
      },
      "execution_count": 42,
      "outputs": [
        {
          "output_type": "execute_result",
          "data": {
            "text/plain": [
              "<tf.Tensor: shape=(3, 2), dtype=int32, numpy=\n",
              "array([[20, 59],\n",
              "       [34, 57],\n",
              "       [30, 60]], dtype=int32)>"
            ]
          },
          "metadata": {},
          "execution_count": 42
        }
      ]
    },
    {
      "cell_type": "code",
      "source": [
        "# Now let's try the same matrix multiplication again using `tf.tensordot` method\n",
        "t8 = tf.tensordot(t5, t6, axes=1)\n",
        "t8"
      ],
      "metadata": {
        "colab": {
          "base_uri": "https://localhost:8080/"
        },
        "id": "Wdkep7WSqHgE",
        "outputId": "b5dac112-446d-479e-88af-fb3eddcdfaf5"
      },
      "execution_count": 43,
      "outputs": [
        {
          "output_type": "execute_result",
          "data": {
            "text/plain": [
              "<tf.Tensor: shape=(3, 2), dtype=int32, numpy=\n",
              "array([[20, 59],\n",
              "       [34, 57],\n",
              "       [30, 60]], dtype=int32)>"
            ]
          },
          "metadata": {},
          "execution_count": 43
        }
      ]
    },
    {
      "cell_type": "markdown",
      "source": [
        "From the above code we see that both `tf.matmul` and `tf.tensordot` gave same multiplication output on our 2 matrixs. However let's explore few more use cases of `tf.tensordot`."
      ],
      "metadata": {
        "id": "CJapnFjg2P2m"
      }
    },
    {
      "cell_type": "code",
      "source": [
        "t10 = tf.constant([[2, 3],\n",
        "                   [4, 5]])\n",
        "t11 = tf.constant([[6, 7],\n",
        "                   [8, 9]])\n",
        "t12 = tf.matmul(t10, t11)\n",
        "t13 = tf.tensordot(t10, t11, axes=1)\n",
        "t14 = tf.tensordot(t10, t11, axes=0)\n",
        "t15 = tf.tensordot(t10, t11, axes=[1, 0])\n",
        "\n",
        "print(\"First Input Tensor:\")\n",
        "print(t10)\n",
        "print(\"\\n\")\n",
        "print(\"Second Input Tensor:\")\n",
        "print(t11)\n",
        "print(\"\\n\")\n",
        "print(\"Resulting Tensor using tf.mutmul:\")\n",
        "print(t12)\n",
        "print(\"\\n\")\n",
        "print(\"Resulting Tensor using tf.tensordot using axis 1:\")\n",
        "print(t13)\n",
        "print(\"\\n\")\n",
        "print(\"Resulting Tensor using tf.tensordot using axis 0:\")\n",
        "print(t14)\n",
        "print(\"\\n\")\n",
        "print(\"Resulting Tensor using tf.tensordot using axis [1, 0]:\")\n",
        "print(t15)"
      ],
      "metadata": {
        "colab": {
          "base_uri": "https://localhost:8080/"
        },
        "id": "NGirRyUW24VE",
        "outputId": "42cba1c6-cb04-460d-974f-3e0ae64d42ec"
      },
      "execution_count": 44,
      "outputs": [
        {
          "output_type": "stream",
          "name": "stdout",
          "text": [
            "First Input Tensor:\n",
            "tf.Tensor(\n",
            "[[2 3]\n",
            " [4 5]], shape=(2, 2), dtype=int32)\n",
            "\n",
            "\n",
            "Second Input Tensor:\n",
            "tf.Tensor(\n",
            "[[6 7]\n",
            " [8 9]], shape=(2, 2), dtype=int32)\n",
            "\n",
            "\n",
            "Resulting Tensor using tf.mutmul:\n",
            "tf.Tensor(\n",
            "[[36 41]\n",
            " [64 73]], shape=(2, 2), dtype=int32)\n",
            "\n",
            "\n",
            "Resulting Tensor using tf.tensordot using axis 1:\n",
            "tf.Tensor(\n",
            "[[36 41]\n",
            " [64 73]], shape=(2, 2), dtype=int32)\n",
            "\n",
            "\n",
            "Resulting Tensor using tf.tensordot using axis 0:\n",
            "tf.Tensor(\n",
            "[[[[12 14]\n",
            "   [16 18]]\n",
            "\n",
            "  [[18 21]\n",
            "   [24 27]]]\n",
            "\n",
            "\n",
            " [[[24 28]\n",
            "   [32 36]]\n",
            "\n",
            "  [[30 35]\n",
            "   [40 45]]]], shape=(2, 2, 2, 2), dtype=int32)\n",
            "\n",
            "\n",
            "Resulting Tensor using tf.tensordot using axis [1, 0]:\n",
            "tf.Tensor(\n",
            "[[36 41]\n",
            " [64 73]], shape=(2, 2), dtype=int32)\n"
          ]
        }
      ]
    },
    {
      "cell_type": "markdown",
      "source": [
        "Two important rules of matrix multiplication -\n",
        "* The number of columns in the first matrix should be the same as the number of rows in the second matrix.\n",
        "* The resulting matrix will have number of rows same as that of the first matrix and number of columns same as that of the second matrix."
      ],
      "metadata": {
        "id": "ZUzrDX25yc1e"
      }
    },
    {
      "cell_type": "markdown",
      "source": [
        "#### Changing the Data Type of Tensor"
      ],
      "metadata": {
        "id": "dn-x6NeV8159"
      }
    },
    {
      "cell_type": "code",
      "source": [
        "t1 = tf.constant([3, 5])\n",
        "t1.dtype"
      ],
      "metadata": {
        "colab": {
          "base_uri": "https://localhost:8080/"
        },
        "id": "vodEpUHW88Lw",
        "outputId": "c6efe71c-2135-4921-d763-d496e4cbdc5c"
      },
      "execution_count": 45,
      "outputs": [
        {
          "output_type": "execute_result",
          "data": {
            "text/plain": [
              "tf.int32"
            ]
          },
          "metadata": {},
          "execution_count": 45
        }
      ]
    },
    {
      "cell_type": "code",
      "source": [
        "t2 = tf.constant([1.5, 3.8])\n",
        "t2.dtype"
      ],
      "metadata": {
        "colab": {
          "base_uri": "https://localhost:8080/"
        },
        "id": "JZwCJT039gRW",
        "outputId": "2b3fec3d-0776-49a8-9a27-8162ba257ea2"
      },
      "execution_count": 46,
      "outputs": [
        {
          "output_type": "execute_result",
          "data": {
            "text/plain": [
              "tf.float32"
            ]
          },
          "metadata": {},
          "execution_count": 46
        }
      ]
    },
    {
      "cell_type": "code",
      "source": [
        "t3 = tf.constant([5, 7.3])\n",
        "t3, t3.dtype"
      ],
      "metadata": {
        "colab": {
          "base_uri": "https://localhost:8080/"
        },
        "id": "ku9ZgPtN9t4w",
        "outputId": "fcfcb3c9-2f0e-4b8f-f984-cea40f1e59b5"
      },
      "execution_count": 47,
      "outputs": [
        {
          "output_type": "execute_result",
          "data": {
            "text/plain": [
              "(<tf.Tensor: shape=(2,), dtype=float32, numpy=array([5. , 7.3], dtype=float32)>,\n",
              " tf.float32)"
            ]
          },
          "metadata": {},
          "execution_count": 47
        }
      ]
    },
    {
      "cell_type": "markdown",
      "source": [
        "In the above example, we passed one integer (5) and one float (7.3) to create the t3 tensor. The tensor was created as float32 and the integer value was converetd to float32."
      ],
      "metadata": {
        "id": "X0g3UyPM965W"
      }
    },
    {
      "cell_type": "code",
      "source": [
        "# Let's convert the first tensor from integer to float\n",
        "t4 = tf.cast(t1, dtype=tf.float32)\n",
        "t4, t4.dtype"
      ],
      "metadata": {
        "colab": {
          "base_uri": "https://localhost:8080/"
        },
        "id": "V32MYfrb-eTQ",
        "outputId": "6744d77c-2b86-41ef-f4c5-2ecdfcce8448"
      },
      "execution_count": 48,
      "outputs": [
        {
          "output_type": "execute_result",
          "data": {
            "text/plain": [
              "(<tf.Tensor: shape=(2,), dtype=float32, numpy=array([3., 5.], dtype=float32)>,\n",
              " tf.float32)"
            ]
          },
          "metadata": {},
          "execution_count": 48
        }
      ]
    },
    {
      "cell_type": "code",
      "source": [
        "# Let's convert the above tensor from float32 to float16\n",
        "# Note that we can also convert int tensor to float16 directly\n",
        "t5 = tf.cast(t4, dtype=tf.float16)\n",
        "t5.dtype"
      ],
      "metadata": {
        "colab": {
          "base_uri": "https://localhost:8080/"
        },
        "id": "VEZHbbl0_1d-",
        "outputId": "55b9c3c5-cb96-4bac-b19b-314bddb3442b"
      },
      "execution_count": 49,
      "outputs": [
        {
          "output_type": "execute_result",
          "data": {
            "text/plain": [
              "tf.float16"
            ]
          },
          "metadata": {},
          "execution_count": 49
        }
      ]
    },
    {
      "cell_type": "markdown",
      "source": [
        "The above operation of reducing from float32 to float16 is also known as **Reduced Precision**. By reducing the precision, it helps to reduce the amount of space it take in the memory to store and perform operation with the tensor using **Graphical Processing Units or GPUs**."
      ],
      "metadata": {
        "id": "591icFEf_2Xv"
      }
    },
    {
      "cell_type": "markdown",
      "source": [
        "### Aggregating Tensors\n",
        "In this section, we are going to perform following types of aggregation with tensors.\n",
        "* Find the maximum value in a tensor\n",
        "* Find the minimum value in a tensor\n",
        "* Find the mean value in a tensor\n",
        "* Find the variance in a tensor\n",
        "* Find the standard deviation in a tensor\n",
        "* Find the sum of all values in a tensor\n",
        "* Find the position of the maximum value in a tensor\n",
        "* Find the position of the minimum value in a tensor"
      ],
      "metadata": {
        "id": "g924LyVtADdf"
      }
    },
    {
      "cell_type": "code",
      "source": [
        "# Create a tensor with 50 random numbers between 0 and 100\n",
        "t20 = tf.constant(np.random.randint(0, 100, 50))\n",
        "t20"
      ],
      "metadata": {
        "colab": {
          "base_uri": "https://localhost:8080/"
        },
        "id": "uTz2N1bdHZgJ",
        "outputId": "2b744ee8-dc1e-4561-d961-5318896deae4"
      },
      "execution_count": 50,
      "outputs": [
        {
          "output_type": "execute_result",
          "data": {
            "text/plain": [
              "<tf.Tensor: shape=(50,), dtype=int64, numpy=\n",
              "array([15, 89,  8, 65, 10, 95, 80,  4, 14, 33, 98,  6, 19, 30, 94, 43, 15,\n",
              "       12, 26, 21,  8, 19, 91, 29, 31, 47, 15, 34, 38, 69, 53, 74, 91, 36,\n",
              "       67, 74, 45, 81, 49, 11, 21, 45,  9, 45, 86, 71,  9, 13, 53, 51])>"
            ]
          },
          "metadata": {},
          "execution_count": 50
        }
      ]
    },
    {
      "cell_type": "code",
      "source": [
        "# Find the minimum value in a tensor\n",
        "min = tf.reduce_min(t20).numpy()\n",
        "min"
      ],
      "metadata": {
        "colab": {
          "base_uri": "https://localhost:8080/"
        },
        "id": "f5OZeJDGJXPW",
        "outputId": "174b3266-ae1b-4888-881f-c8b8598e6b6c"
      },
      "execution_count": 51,
      "outputs": [
        {
          "output_type": "execute_result",
          "data": {
            "text/plain": [
              "4"
            ]
          },
          "metadata": {},
          "execution_count": 51
        }
      ]
    },
    {
      "cell_type": "code",
      "source": [
        "# Find the maximum, mean and sum value in a tensor\n",
        "max = tf.reduce_max(t20).numpy()\n",
        "mean = tf.reduce_mean(t20).numpy()\n",
        "sum = tf.reduce_sum(t20).numpy()\n",
        "print(\"Maximum value in a tensor: \", max)\n",
        "print(\"Mean value in a tensor: \", mean)\n",
        "print(\"Sum of all values in a tensor: \", sum)\n",
        "#print(\"Variance in a tensor: \", var)\n",
        "#print(\"Standard deviation in a tensor: \", std)"
      ],
      "metadata": {
        "colab": {
          "base_uri": "https://localhost:8080/"
        },
        "id": "p7_c6ZNWLNFe",
        "outputId": "d93c7691-3b03-48b8-b30d-4528e472bcc7"
      },
      "execution_count": 52,
      "outputs": [
        {
          "output_type": "stream",
          "name": "stdout",
          "text": [
            "Maximum value in a tensor:  98\n",
            "Mean value in a tensor:  42\n",
            "Sum of all values in a tensor:  2142\n"
          ]
        }
      ]
    },
    {
      "cell_type": "code",
      "source": [
        "# Find the variance in a tensor\n",
        "var = tf.math.reduce_variance(t20)"
      ],
      "metadata": {
        "colab": {
          "base_uri": "https://localhost:8080/",
          "height": 339
        },
        "id": "yo6EFk2OOFT9",
        "outputId": "75bfdd81-2c27-4a61-9765-00d397f81e9d"
      },
      "execution_count": 53,
      "outputs": [
        {
          "output_type": "error",
          "ename": "TypeError",
          "evalue": "Input must be either real or complex. Received integer type <dtype: 'int64'>.",
          "traceback": [
            "\u001b[0;31m---------------------------------------------------------------------------\u001b[0m",
            "\u001b[0;31mTypeError\u001b[0m                                 Traceback (most recent call last)",
            "\u001b[0;32m<ipython-input-53-3c9eb977c83f>\u001b[0m in \u001b[0;36m<cell line: 2>\u001b[0;34m()\u001b[0m\n\u001b[1;32m      1\u001b[0m \u001b[0;31m# Find the variance in a tensor\u001b[0m\u001b[0;34m\u001b[0m\u001b[0;34m\u001b[0m\u001b[0m\n\u001b[0;32m----> 2\u001b[0;31m \u001b[0mvar\u001b[0m \u001b[0;34m=\u001b[0m \u001b[0mtf\u001b[0m\u001b[0;34m.\u001b[0m\u001b[0mmath\u001b[0m\u001b[0;34m.\u001b[0m\u001b[0mreduce_variance\u001b[0m\u001b[0;34m(\u001b[0m\u001b[0mt20\u001b[0m\u001b[0;34m)\u001b[0m\u001b[0;34m\u001b[0m\u001b[0;34m\u001b[0m\u001b[0m\n\u001b[0m",
            "\u001b[0;32m/usr/local/lib/python3.10/dist-packages/tensorflow/python/ops/weak_tensor_ops.py\u001b[0m in \u001b[0;36mwrapper\u001b[0;34m(*args, **kwargs)\u001b[0m\n\u001b[1;32m     86\u001b[0m   \u001b[0;32mdef\u001b[0m \u001b[0mwrapper\u001b[0m\u001b[0;34m(\u001b[0m\u001b[0;34m*\u001b[0m\u001b[0margs\u001b[0m\u001b[0;34m,\u001b[0m \u001b[0;34m**\u001b[0m\u001b[0mkwargs\u001b[0m\u001b[0;34m)\u001b[0m\u001b[0;34m:\u001b[0m\u001b[0;34m\u001b[0m\u001b[0;34m\u001b[0m\u001b[0m\n\u001b[1;32m     87\u001b[0m     \u001b[0;32mif\u001b[0m \u001b[0;32mnot\u001b[0m \u001b[0mops\u001b[0m\u001b[0;34m.\u001b[0m\u001b[0mis_auto_dtype_conversion_enabled\u001b[0m\u001b[0;34m(\u001b[0m\u001b[0;34m)\u001b[0m\u001b[0;34m:\u001b[0m\u001b[0;34m\u001b[0m\u001b[0;34m\u001b[0m\u001b[0m\n\u001b[0;32m---> 88\u001b[0;31m       \u001b[0;32mreturn\u001b[0m \u001b[0mop\u001b[0m\u001b[0;34m(\u001b[0m\u001b[0;34m*\u001b[0m\u001b[0margs\u001b[0m\u001b[0;34m,\u001b[0m \u001b[0;34m**\u001b[0m\u001b[0mkwargs\u001b[0m\u001b[0;34m)\u001b[0m\u001b[0;34m\u001b[0m\u001b[0;34m\u001b[0m\u001b[0m\n\u001b[0m\u001b[1;32m     89\u001b[0m     \u001b[0mbound_arguments\u001b[0m \u001b[0;34m=\u001b[0m \u001b[0msignature\u001b[0m\u001b[0;34m.\u001b[0m\u001b[0mbind\u001b[0m\u001b[0;34m(\u001b[0m\u001b[0;34m*\u001b[0m\u001b[0margs\u001b[0m\u001b[0;34m,\u001b[0m \u001b[0;34m**\u001b[0m\u001b[0mkwargs\u001b[0m\u001b[0;34m)\u001b[0m\u001b[0;34m\u001b[0m\u001b[0;34m\u001b[0m\u001b[0m\n\u001b[1;32m     90\u001b[0m     \u001b[0mbound_arguments\u001b[0m\u001b[0;34m.\u001b[0m\u001b[0mapply_defaults\u001b[0m\u001b[0;34m(\u001b[0m\u001b[0;34m)\u001b[0m\u001b[0;34m\u001b[0m\u001b[0;34m\u001b[0m\u001b[0m\n",
            "\u001b[0;32m/usr/local/lib/python3.10/dist-packages/tensorflow/python/util/traceback_utils.py\u001b[0m in \u001b[0;36merror_handler\u001b[0;34m(*args, **kwargs)\u001b[0m\n\u001b[1;32m    151\u001b[0m     \u001b[0;32mexcept\u001b[0m \u001b[0mException\u001b[0m \u001b[0;32mas\u001b[0m \u001b[0me\u001b[0m\u001b[0;34m:\u001b[0m\u001b[0;34m\u001b[0m\u001b[0;34m\u001b[0m\u001b[0m\n\u001b[1;32m    152\u001b[0m       \u001b[0mfiltered_tb\u001b[0m \u001b[0;34m=\u001b[0m \u001b[0m_process_traceback_frames\u001b[0m\u001b[0;34m(\u001b[0m\u001b[0me\u001b[0m\u001b[0;34m.\u001b[0m\u001b[0m__traceback__\u001b[0m\u001b[0;34m)\u001b[0m\u001b[0;34m\u001b[0m\u001b[0;34m\u001b[0m\u001b[0m\n\u001b[0;32m--> 153\u001b[0;31m       \u001b[0;32mraise\u001b[0m \u001b[0me\u001b[0m\u001b[0;34m.\u001b[0m\u001b[0mwith_traceback\u001b[0m\u001b[0;34m(\u001b[0m\u001b[0mfiltered_tb\u001b[0m\u001b[0;34m)\u001b[0m \u001b[0;32mfrom\u001b[0m \u001b[0;32mNone\u001b[0m\u001b[0;34m\u001b[0m\u001b[0;34m\u001b[0m\u001b[0m\n\u001b[0m\u001b[1;32m    154\u001b[0m     \u001b[0;32mfinally\u001b[0m\u001b[0;34m:\u001b[0m\u001b[0;34m\u001b[0m\u001b[0;34m\u001b[0m\u001b[0m\n\u001b[1;32m    155\u001b[0m       \u001b[0;32mdel\u001b[0m \u001b[0mfiltered_tb\u001b[0m\u001b[0;34m\u001b[0m\u001b[0;34m\u001b[0m\u001b[0m\n",
            "\u001b[0;32m/usr/local/lib/python3.10/dist-packages/tensorflow/python/ops/math_ops.py\u001b[0m in \u001b[0;36mreduce_variance\u001b[0;34m(input_tensor, axis, keepdims, name)\u001b[0m\n\u001b[1;32m   2820\u001b[0m     \u001b[0mmeans\u001b[0m \u001b[0;34m=\u001b[0m \u001b[0mreduce_mean\u001b[0m\u001b[0;34m(\u001b[0m\u001b[0minput_tensor\u001b[0m\u001b[0;34m,\u001b[0m \u001b[0maxis\u001b[0m\u001b[0;34m=\u001b[0m\u001b[0maxis\u001b[0m\u001b[0;34m,\u001b[0m \u001b[0mkeepdims\u001b[0m\u001b[0;34m=\u001b[0m\u001b[0;32mTrue\u001b[0m\u001b[0;34m)\u001b[0m\u001b[0;34m\u001b[0m\u001b[0;34m\u001b[0m\u001b[0m\n\u001b[1;32m   2821\u001b[0m     \u001b[0;32mif\u001b[0m \u001b[0mmeans\u001b[0m\u001b[0;34m.\u001b[0m\u001b[0mdtype\u001b[0m\u001b[0;34m.\u001b[0m\u001b[0mis_integer\u001b[0m\u001b[0;34m:\u001b[0m\u001b[0;34m\u001b[0m\u001b[0;34m\u001b[0m\u001b[0m\n\u001b[0;32m-> 2822\u001b[0;31m       raise TypeError(f\"Input must be either real or complex. \"\n\u001b[0m\u001b[1;32m   2823\u001b[0m                       f\"Received integer type {means.dtype}.\")\n\u001b[1;32m   2824\u001b[0m     \u001b[0mdiff\u001b[0m \u001b[0;34m=\u001b[0m \u001b[0minput_tensor\u001b[0m \u001b[0;34m-\u001b[0m \u001b[0mmeans\u001b[0m\u001b[0;34m\u001b[0m\u001b[0;34m\u001b[0m\u001b[0m\n",
            "\u001b[0;31mTypeError\u001b[0m: Input must be either real or complex. Received integer type <dtype: 'int64'>."
          ]
        }
      ]
    },
    {
      "cell_type": "code",
      "source": [
        "# Analyzing the above error we realize that the variance function will work on complex datatype such as float,\n",
        "# whereas our tesor is of datatype int. So we need to first change the datatype\n",
        "t21 = tf.cast(t20, dtype=tf.float16)\n",
        "var = tf.math.reduce_variance(t21).numpy()\n",
        "var"
      ],
      "metadata": {
        "colab": {
          "base_uri": "https://localhost:8080/"
        },
        "id": "oCuOwX4pOeKZ",
        "outputId": "cf89e549-7068-4f77-c4d8-11f98d09c18f"
      },
      "execution_count": 54,
      "outputs": [
        {
          "output_type": "execute_result",
          "data": {
            "text/plain": [
              "849.5"
            ]
          },
          "metadata": {},
          "execution_count": 54
        }
      ]
    },
    {
      "cell_type": "code",
      "source": [
        "# Find the standard deviation in a tensor\n",
        "std = tf.math.reduce_std(t21).numpy()\n",
        "std"
      ],
      "metadata": {
        "colab": {
          "base_uri": "https://localhost:8080/"
        },
        "id": "0U80z6h4PN-n",
        "outputId": "fe7fa628-5e37-4d51-b087-d3c6e5b1ff17"
      },
      "execution_count": 55,
      "outputs": [
        {
          "output_type": "execute_result",
          "data": {
            "text/plain": [
              "29.14"
            ]
          },
          "metadata": {},
          "execution_count": 55
        }
      ]
    },
    {
      "cell_type": "code",
      "source": [
        "# Let's calculate variance and standard deviation on couple of other tensors\n",
        "t22 = tf.constant([1,2,3,8,9,10], dtype=tf.float16)\n",
        "t23 = tf.constant([[1,2,3],\n",
        "                   [8,9,10]], dtype=tf.float16)\n",
        "print(\"First tensor: \", t22)\n",
        "print(\"\\nSecond tensor: \", t23)\n",
        "\n",
        "var1 = tf.math.reduce_variance(t22).numpy()\n",
        "print(\"\\nVariance of the first tensor: \", var1)\n",
        "std1 = tf.math.reduce_std(t22).numpy()\n",
        "print(\"\\nStandard deviation of the first tensor: \", std1)\n",
        "\n",
        "var2 = tf.math.reduce_variance(t23).numpy()\n",
        "print(\"\\nVariance of the second tensor: \", var2)\n",
        "std2 = tf.math.reduce_std(t23).numpy()\n",
        "print(\"\\nStandard deviation of the second tensor: \", std2)"
      ],
      "metadata": {
        "colab": {
          "base_uri": "https://localhost:8080/"
        },
        "id": "FwqoyuS3P_Gt",
        "outputId": "d67fec18-b81e-4dd5-dbfd-cc03445e804f"
      },
      "execution_count": 56,
      "outputs": [
        {
          "output_type": "stream",
          "name": "stdout",
          "text": [
            "First tensor:  tf.Tensor([ 1.  2.  3.  8.  9. 10.], shape=(6,), dtype=float16)\n",
            "\n",
            "Second tensor:  tf.Tensor(\n",
            "[[ 1.  2.  3.]\n",
            " [ 8.  9. 10.]], shape=(2, 3), dtype=float16)\n",
            "\n",
            "Variance of the first tensor:  12.914\n",
            "\n",
            "Standard deviation of the first tensor:  3.594\n",
            "\n",
            "Variance of the second tensor:  12.914\n",
            "\n",
            "Standard deviation of the second tensor:  3.594\n"
          ]
        }
      ]
    },
    {
      "cell_type": "markdown",
      "source": [
        "So from the above code example we see that both the `tf.math.reduce_variance()` and `tf.math.reduce_std()` functions produces the same result for both t22 and t23 tensors. Both had same values but t22 was one dimentional / scaler, whereas t23 was two dimentional / vector. That indicates both the `tf.math.reduce_variance()` and `tf.math.reduce_std()` functions reduce n-dimentional tensor into 1 dimentional / flat tensor in otder to derive the variance and standard deviation."
      ],
      "metadata": {
        "id": "x76aLmsfSGZk"
      }
    },
    {
      "cell_type": "markdown",
      "source": [
        "#### Find the position of the maximum and minimum value in a tensor"
      ],
      "metadata": {
        "id": "ECX-U2Zz4kBC"
      }
    },
    {
      "cell_type": "code",
      "source": [
        "# Create a tensor with 50 uniformly distributed decimal numbers\n",
        "tf.random.set_seed(42)\n",
        "t30 = tf.random.uniform(shape=[50])\n",
        "t30"
      ],
      "metadata": {
        "colab": {
          "base_uri": "https://localhost:8080/"
        },
        "id": "FK8k5bob3lFO",
        "outputId": "84da6617-bc10-4ace-dc1b-27f05f7b99c5"
      },
      "execution_count": 57,
      "outputs": [
        {
          "output_type": "execute_result",
          "data": {
            "text/plain": [
              "<tf.Tensor: shape=(50,), dtype=float32, numpy=\n",
              "array([0.6645621 , 0.44100678, 0.3528825 , 0.46448255, 0.03366041,\n",
              "       0.68467236, 0.74011743, 0.8724445 , 0.22632635, 0.22319686,\n",
              "       0.3103881 , 0.7223358 , 0.13318717, 0.5480639 , 0.5746088 ,\n",
              "       0.8996835 , 0.00946367, 0.5212307 , 0.6345445 , 0.1993283 ,\n",
              "       0.72942245, 0.54583454, 0.10756552, 0.6767061 , 0.6602763 ,\n",
              "       0.33695042, 0.60141766, 0.21062577, 0.8527372 , 0.44062173,\n",
              "       0.9485276 , 0.23752594, 0.81179297, 0.5263394 , 0.494308  ,\n",
              "       0.21612847, 0.8457197 , 0.8718841 , 0.3083862 , 0.6868038 ,\n",
              "       0.23764038, 0.7817228 , 0.9671384 , 0.06870162, 0.79873943,\n",
              "       0.66028714, 0.5871513 , 0.16461694, 0.7381023 , 0.32054043],\n",
              "      dtype=float32)>"
            ]
          },
          "metadata": {},
          "execution_count": 57
        }
      ]
    },
    {
      "cell_type": "code",
      "source": [
        "# Find the position of the maximum value in a tensor\n",
        "pmax = tf.argmax(t30).numpy()\n",
        "print(\"Position of the maximum value in the given tensor is: \", pmax)\n",
        "\n",
        "# Find the maximum value through the position\n",
        "vmax1 = t30[tf.argmax(t30)].numpy()\n",
        "print(\"\\nMaximum value in the given tensor is: \", vmax1)\n",
        "\n",
        "# Find the maximum value through conventional way\n",
        "vmax2 = tf.math.reduce_max(t30).numpy()\n",
        "print(\"\\nMaximum value in the given tensor is: \", vmax2)"
      ],
      "metadata": {
        "colab": {
          "base_uri": "https://localhost:8080/"
        },
        "id": "7njtLCRA5NKY",
        "outputId": "dad7a606-3855-4711-eee7-f30096ca1f50"
      },
      "execution_count": 58,
      "outputs": [
        {
          "output_type": "stream",
          "name": "stdout",
          "text": [
            "Position of the maximum value in the given tensor is:  42\n",
            "\n",
            "Maximum value in the given tensor is:  0.9671384\n",
            "\n",
            "Maximum value in the given tensor is:  0.9671384\n"
          ]
        }
      ]
    },
    {
      "cell_type": "code",
      "source": [
        "# Find the position of the minimum value in a tensor\n",
        "pmin = tf.argmin(t30).numpy()\n",
        "print(\"Position of the minimum value in the given tensor is: \", pmin)\n",
        "\n",
        "# Find the minimum value through the position\n",
        "vmin1 = t30[tf.argmin(t30)].numpy()\n",
        "print(\"\\nMinimum value in the given tensor is: \", vmin1)\n",
        "\n",
        "# Find the minimum value through conventional way\n",
        "vmin2 = tf.math.reduce_min(t30).numpy()\n",
        "print(\"\\nMinimum value in the given tensor is: \", vmin2)"
      ],
      "metadata": {
        "colab": {
          "base_uri": "https://localhost:8080/"
        },
        "id": "JE4dH-sW6xum",
        "outputId": "811d4423-e074-46fc-a093-fe026cfa02d7"
      },
      "execution_count": 59,
      "outputs": [
        {
          "output_type": "stream",
          "name": "stdout",
          "text": [
            "Position of the minimum value in the given tensor is:  16\n",
            "\n",
            "Minimum value in the given tensor is:  0.009463668\n",
            "\n",
            "Minimum value in the given tensor is:  0.009463668\n"
          ]
        }
      ]
    },
    {
      "cell_type": "markdown",
      "source": [
        "#### One-Hot Encoding with Tensor"
      ],
      "metadata": {
        "id": "LmrsHWCf_YM9"
      }
    },
    {
      "cell_type": "code",
      "source": [
        "# First example\n",
        "list = [0, 3, 1, 2]\n",
        "t40 = tf.one_hot(list, depth=4)\n",
        "t40"
      ],
      "metadata": {
        "colab": {
          "base_uri": "https://localhost:8080/"
        },
        "id": "mykHjwml_eni",
        "outputId": "4ac6016d-73e7-42a0-a254-5b58343a4d3f"
      },
      "execution_count": 60,
      "outputs": [
        {
          "output_type": "execute_result",
          "data": {
            "text/plain": [
              "<tf.Tensor: shape=(4, 4), dtype=float32, numpy=\n",
              "array([[1., 0., 0., 0.],\n",
              "       [0., 0., 0., 1.],\n",
              "       [0., 1., 0., 0.],\n",
              "       [0., 0., 1., 0.]], dtype=float32)>"
            ]
          },
          "metadata": {},
          "execution_count": 60
        }
      ]
    },
    {
      "cell_type": "code",
      "source": [
        "# Second example\n",
        "list = [0, -1, 2, 1, -2]\n",
        "t41 = tf.one_hot(list, depth=3)\n",
        "t41"
      ],
      "metadata": {
        "colab": {
          "base_uri": "https://localhost:8080/"
        },
        "id": "Qrus4ozqBCiz",
        "outputId": "1c276302-146a-46d5-dc30-a37c20d7652a"
      },
      "execution_count": 61,
      "outputs": [
        {
          "output_type": "execute_result",
          "data": {
            "text/plain": [
              "<tf.Tensor: shape=(5, 3), dtype=float32, numpy=\n",
              "array([[1., 0., 0.],\n",
              "       [0., 0., 0.],\n",
              "       [0., 0., 1.],\n",
              "       [0., 1., 0.],\n",
              "       [0., 0., 0.]], dtype=float32)>"
            ]
          },
          "metadata": {},
          "execution_count": 61
        }
      ]
    },
    {
      "cell_type": "code",
      "source": [
        "# Third example\n",
        "list = [-2, -1, 0, 1, 2, 3]\n",
        "t42 = tf.one_hot(list, depth=3)\n",
        "t42"
      ],
      "metadata": {
        "colab": {
          "base_uri": "https://localhost:8080/"
        },
        "id": "0_C40MZtBrsF",
        "outputId": "a734345a-0807-46ad-e5d4-935796bac5bb"
      },
      "execution_count": 62,
      "outputs": [
        {
          "output_type": "execute_result",
          "data": {
            "text/plain": [
              "<tf.Tensor: shape=(6, 3), dtype=float32, numpy=\n",
              "array([[0., 0., 0.],\n",
              "       [0., 0., 0.],\n",
              "       [1., 0., 0.],\n",
              "       [0., 1., 0.],\n",
              "       [0., 0., 1.],\n",
              "       [0., 0., 0.]], dtype=float32)>"
            ]
          },
          "metadata": {},
          "execution_count": 62
        }
      ]
    },
    {
      "cell_type": "code",
      "source": [
        "# Fourth example\n",
        "list = [-2, -1, 0, 1, 2, 3]\n",
        "t43 = tf.one_hot(list, depth=6)\n",
        "t43"
      ],
      "metadata": {
        "colab": {
          "base_uri": "https://localhost:8080/"
        },
        "id": "lhfW37iPB1OH",
        "outputId": "43852888-fbad-4a8f-8a09-3d72fc347484"
      },
      "execution_count": 63,
      "outputs": [
        {
          "output_type": "execute_result",
          "data": {
            "text/plain": [
              "<tf.Tensor: shape=(6, 6), dtype=float32, numpy=\n",
              "array([[0., 0., 0., 0., 0., 0.],\n",
              "       [0., 0., 0., 0., 0., 0.],\n",
              "       [1., 0., 0., 0., 0., 0.],\n",
              "       [0., 1., 0., 0., 0., 0.],\n",
              "       [0., 0., 1., 0., 0., 0.],\n",
              "       [0., 0., 0., 1., 0., 0.]], dtype=float32)>"
            ]
          },
          "metadata": {},
          "execution_count": 63
        }
      ]
    },
    {
      "cell_type": "markdown",
      "source": [
        "### Comparing tensor & numpy\n",
        "In this section we will create tensor from numpy and also do the reverse operation"
      ],
      "metadata": {
        "id": "CFX3aRomCUSI"
      }
    },
    {
      "cell_type": "code",
      "source": [
        "# Create a tensor from numpy array\n",
        "t50 = tf.constant(np.array([3., 5., 7.]))\n",
        "\n",
        "# Create a tensor from python list\n",
        "t51 = tf.constant([3., 5., 7.])\n",
        "\n",
        "t50.dtype, t51.dtype\n",
        "# As we see above, the default datatype of tensor created from numpy array is float64, whereas the same created from a python list is float32"
      ],
      "metadata": {
        "colab": {
          "base_uri": "https://localhost:8080/"
        },
        "id": "8kPc6x8fGslb",
        "outputId": "ca39bb8b-ce69-4ccf-f0b9-c2b686e1891e"
      },
      "execution_count": 64,
      "outputs": [
        {
          "output_type": "execute_result",
          "data": {
            "text/plain": [
              "(tf.float64, tf.float32)"
            ]
          },
          "metadata": {},
          "execution_count": 64
        }
      ]
    },
    {
      "cell_type": "code",
      "source": [
        "# Convert tensor into numpy array\n",
        "np50 = np.array(t50)\n",
        "np50, type(np50)"
      ],
      "metadata": {
        "colab": {
          "base_uri": "https://localhost:8080/"
        },
        "id": "SjNN9Nn1IGPH",
        "outputId": "a05b1da2-bd39-443c-af40-baa9097e42ee"
      },
      "execution_count": 65,
      "outputs": [
        {
          "output_type": "execute_result",
          "data": {
            "text/plain": [
              "(array([3., 5., 7.]), numpy.ndarray)"
            ]
          },
          "metadata": {},
          "execution_count": 65
        }
      ]
    },
    {
      "cell_type": "markdown",
      "source": [
        "### Using GPU with TensorFlow\n",
        "By default our code in this workbook is running on Central Processing Unit or CPU, which is a processor commonly available in many computers and servers. Whereas GPU or Graphical Processing Unit, is faster than CPU and higher throughput and is ideal for graphical operations, computer gaming, deep learning algorithms, etc."
      ],
      "metadata": {
        "id": "GWvVP0XQLfhA"
      }
    },
    {
      "cell_type": "code",
      "source": [
        "# Check what devices our code is running\n",
        "tf.config.list_physical_devices()"
      ],
      "metadata": {
        "colab": {
          "base_uri": "https://localhost:8080/"
        },
        "id": "Xz0tVJIkNBns",
        "outputId": "debe1a22-490e-4fc0-d0e6-880cd8a772b0"
      },
      "execution_count": 66,
      "outputs": [
        {
          "output_type": "execute_result",
          "data": {
            "text/plain": [
              "[PhysicalDevice(name='/physical_device:CPU:0', device_type='CPU'),\n",
              " PhysicalDevice(name='/physical_device:GPU:0', device_type='GPU')]"
            ]
          },
          "metadata": {},
          "execution_count": 66
        }
      ]
    },
    {
      "cell_type": "markdown",
      "source": [
        "Change the processing unit from **CPU** to **GPU**.\n",
        "* Go to the Colab menubar at the top.\n",
        "* Click on 'Runtime'\n",
        "* Click on 'Change runtime type'\n",
        "* Go to the section called 'Hardware Accelerator'\n",
        "* Select 'T4 GPU' (the only available GPU as on Feb 4, 2024)\n",
        "* Click on Save\n",
        "* Rerun the entire code by clicking Runtime > Run all"
      ],
      "metadata": {
        "id": "73NFVVqWNh3z"
      }
    }
  ]
}