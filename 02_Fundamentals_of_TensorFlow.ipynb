{
  "nbformat": 4,
  "nbformat_minor": 0,
  "metadata": {
    "colab": {
      "provenance": [],
      "authorship_tag": "ABX9TyOZ70R41UxZZnOpRDv1RpYH",
      "include_colab_link": true
    },
    "kernelspec": {
      "name": "python3",
      "display_name": "Python 3"
    },
    "language_info": {
      "name": "python"
    }
  },
  "cells": [
    {
      "cell_type": "markdown",
      "metadata": {
        "id": "view-in-github",
        "colab_type": "text"
      },
      "source": [
        "<a href=\"https://colab.research.google.com/github/GoAshim/Deep-Learning-with-TensorFlow/blob/main/02_Fundamentals_of_TensorFlow.ipynb\" target=\"_parent\"><img src=\"https://colab.research.google.com/assets/colab-badge.svg\" alt=\"Open In Colab\"/></a>"
      ]
    },
    {
      "cell_type": "markdown",
      "source": [
        "## Fundamentals of TensorFlow\n",
        "In this workbook we will not do any project, rather we will work on the fundamental concepts of Tensors using TensorFlow, which is going to help us when we do various Deep Learning projects using Neural Network in TensorFlow in the future workbooks.\n",
        "\n",
        "We will cover the following concepts in this workbook -\n",
        "* Introduction to tensors\n",
        "* Getting information from tensors\n",
        "* Updating / changing tensors\n",
        "* Comparing tensor & numpy\n",
        "* Using @tf function to speed up regular python function\n",
        "* Using GPU (or TPU) with TensorFlow"
      ],
      "metadata": {
        "id": "2EEGOOoFlGhw"
      }
    },
    {
      "cell_type": "code",
      "source": [],
      "metadata": {
        "id": "NVdqFRTymr5k"
      },
      "execution_count": null,
      "outputs": []
    }
  ]
}